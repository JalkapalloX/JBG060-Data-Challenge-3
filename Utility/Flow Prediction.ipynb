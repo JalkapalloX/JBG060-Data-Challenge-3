{
 "cells": [
  {
   "cell_type": "code",
   "execution_count": 97,
   "metadata": {},
   "outputs": [],
   "source": [
    "import pandas as pd\n",
    "import numpy as np\n",
    "import geopandas as gpd\n",
    "import matplotlib.pyplot as plt\n",
    "import statsmodels.api as sm\n",
    "\n",
    "import tensorflow as tf\n",
    "import keras\n",
    "\n",
    "import load_files as lf\n",
    "import wrangling\n",
    "import utility\n",
    "\n",
    "import holidays\n",
    "\n",
    "import warnings\n",
    "warnings.filterwarnings('ignore')"
   ]
  },
  {
   "cell_type": "markdown",
   "metadata": {},
   "source": [
    "# Manipulating Rain Prediction"
   ]
  },
  {
   "cell_type": "code",
   "execution_count": 16,
   "metadata": {},
   "outputs": [],
   "source": [
    "rain_prediction = lf.get_file().load(r\"D:\\DC3\\Full Project\\rain_prediction\")"
   ]
  },
  {
   "cell_type": "code",
   "execution_count": 17,
   "metadata": {},
   "outputs": [],
   "source": [
    "rg_spots = \\\n",
    "{\"Drunen\":            (51.680344, 5.132245),\n",
    " \"Haarsteeg\":         (51.711222, 5.200918),\n",
    " \"Elshout\":           (51.700495, 5.142846),\n",
    " \"WWTP\":              (51.720422, 5.281040),\n",
    " \"Bokhoven\":          (51.736875, 5.233440),\n",
    " \"Engelen\":           (51.720494, 5.272021),\n",
    " \"Maaspoort\":         (51.719882, 5.290690),\n",
    " \"Helftheuvelweg\":    (51.700226, 5.269245),\n",
    " \"Oude Engelenseweg\": (51.697353, 5.290440),\n",
    " \"Rompert\":           (51.711202, 5.311724)}\n",
    "\n",
    "def grid_area(rain_grid, rg: str, padding=1, reduced=False):\n",
    "    \n",
    "    x, y = wrangling.cell_index(rg_spots[rg][1], rg_spots[rg][0], reduced=reduced)\n",
    "    \n",
    "    coords = (x - padding, x + padding, y - padding, y + padding)\n",
    "    \n",
    "    return rain_grid[:, coords[0]:(coords[1]+1), coords[2]:(coords[3]+1)]"
   ]
  },
  {
   "cell_type": "code",
   "execution_count": 91,
   "metadata": {},
   "outputs": [],
   "source": [
    "rain_grid = grid_area(rain_prediction[1], \"Drunen\", padding=5, reduced=True) # select 1+2*padding grid from around drunen pump"
   ]
  },
  {
   "cell_type": "code",
   "execution_count": 86,
   "metadata": {},
   "outputs": [
    {
     "data": {
      "text/html": [
       "<div>\n",
       "<style scoped>\n",
       "    .dataframe tbody tr th:only-of-type {\n",
       "        vertical-align: middle;\n",
       "    }\n",
       "\n",
       "    .dataframe tbody tr th {\n",
       "        vertical-align: top;\n",
       "    }\n",
       "\n",
       "    .dataframe thead th {\n",
       "        text-align: right;\n",
       "    }\n",
       "</style>\n",
       "<table border=\"1\" class=\"dataframe\">\n",
       "  <thead>\n",
       "    <tr style=\"text-align: right;\">\n",
       "      <th></th>\n",
       "      <th>pred</th>\n",
       "      <th>start</th>\n",
       "      <th>end</th>\n",
       "    </tr>\n",
       "  </thead>\n",
       "  <tbody>\n",
       "    <tr>\n",
       "      <th>0</th>\n",
       "      <td>2018-01-01</td>\n",
       "      <td>2018-01-02 00:00:00</td>\n",
       "      <td>2018-01-02 01:00:00</td>\n",
       "    </tr>\n",
       "    <tr>\n",
       "      <th>1</th>\n",
       "      <td>2018-01-01</td>\n",
       "      <td>2018-01-02 01:00:00</td>\n",
       "      <td>2018-01-02 02:00:00</td>\n",
       "    </tr>\n",
       "    <tr>\n",
       "      <th>2</th>\n",
       "      <td>2018-01-01</td>\n",
       "      <td>2018-01-02 02:00:00</td>\n",
       "      <td>2018-01-02 03:00:00</td>\n",
       "    </tr>\n",
       "    <tr>\n",
       "      <th>3</th>\n",
       "      <td>2018-01-01</td>\n",
       "      <td>2018-01-02 03:00:00</td>\n",
       "      <td>2018-01-02 04:00:00</td>\n",
       "    </tr>\n",
       "    <tr>\n",
       "      <th>4</th>\n",
       "      <td>2018-01-01</td>\n",
       "      <td>2018-01-02 04:00:00</td>\n",
       "      <td>2018-01-02 05:00:00</td>\n",
       "    </tr>\n",
       "  </tbody>\n",
       "</table>\n",
       "</div>"
      ],
      "text/plain": [
       "        pred               start                 end\n",
       "0 2018-01-01 2018-01-02 00:00:00 2018-01-02 01:00:00\n",
       "1 2018-01-01 2018-01-02 01:00:00 2018-01-02 02:00:00\n",
       "2 2018-01-01 2018-01-02 02:00:00 2018-01-02 03:00:00\n",
       "3 2018-01-01 2018-01-02 03:00:00 2018-01-02 04:00:00\n",
       "4 2018-01-01 2018-01-02 04:00:00 2018-01-02 05:00:00"
      ]
     },
     "execution_count": 86,
     "metadata": {},
     "output_type": "execute_result"
    }
   ],
   "source": [
    "rain_prediction[0].head()"
   ]
  },
  {
   "cell_type": "markdown",
   "metadata": {},
   "source": [
    "# Manipulate Measurement Data"
   ]
  },
  {
   "cell_type": "code",
   "execution_count": 24,
   "metadata": {},
   "outputs": [],
   "source": [
    "flow_data, level_data = lf.get_measurements(\"D:/waterschap-aa-en-maas_sewage_2019/sewer_data/data_pump/RG8150/RG8150\",\n",
    "                                            convert_time=True)"
   ]
  },
  {
   "cell_type": "code",
   "execution_count": 25,
   "metadata": {},
   "outputs": [],
   "source": [
    "flow_data = wrangling.clean_mes_data(flow_data, convert_timestamp=False)\n",
    "level_data = wrangling.clean_mes_data(level_data, convert_timestamp=False)\n",
    "\n",
    "flow_data, level_data = wrangling.merge_flow_level(flow_data, level_data)\n",
    "\n",
    "flow_data[\"Value\"] = flow_data[\"Value\"].fillna(0)\n",
    "flow_data[\"DataQuality\"] = flow_data[\"DataQuality\"].fillna(0)"
   ]
  },
  {
   "cell_type": "code",
   "execution_count": 26,
   "metadata": {},
   "outputs": [],
   "source": [
    "def flow_by_hour(df):\n",
    "    flow_data = df.copy()\n",
    "    \n",
    "    # \n",
    "    #flow_data[\"TimeSpan\"] = flow_data[\"TimeStamp\"].diff(1).apply(lambda i: i.seconds).fillna(5)\n",
    "    flow_data[\"TimeHour\"] = flow_data[\"TimeStamp\"].apply(lambda i: i.replace(minute=0, second=0))\n",
    "    flow_data[\"Flow\"] = flow_data[\"Value\"] / 3600 * flow_data[\"TimeSpan\"]\n",
    "    \n",
    "    # \n",
    "    flow_data = flow_data.groupby(\"TimeHour\").aggregate({\"Flow\": np.sum, \"DataQuality\": np.mean})\n",
    "    dt_range = pd.date_range(flow_data.index[0].floor('h'), flow_data.index[-1].floor('h'), freq='h')\n",
    "    flow_data = flow_data.reindex(dt_range)\n",
    "    flow_data[\"Flow\"] = flow_data[\"Flow\"].fillna(0)\n",
    "    flow_data[\"DataQuality\"] = flow_data[\"DataQuality\"].fillna(0)\n",
    "    \n",
    "    return flow_data.reset_index(drop=False).rename(columns={\"index\": \"TimeHour\"})"
   ]
  },
  {
   "cell_type": "code",
   "execution_count": 27,
   "metadata": {},
   "outputs": [],
   "source": [
    "x = flow_by_hour(flow_data)"
   ]
  },
  {
   "cell_type": "code",
   "execution_count": 31,
   "metadata": {},
   "outputs": [
    {
     "data": {
      "text/plain": [
       "<matplotlib.axes._subplots.AxesSubplot at 0x2362711f518>"
      ]
     },
     "execution_count": 31,
     "metadata": {},
     "output_type": "execute_result"
    },
    {
     "data": {
      "image/png": "[encoded data removed]",
      "text/plain": [
       "<Figure size 432x288 with 1 Axes>"
      ]
     },
     "metadata": {
      "needs_background": "light"
     },
     "output_type": "display_data"
    }
   ],
   "source": [
    "x.loc[x[\"Flow\"] <= 1200, \"Flow\"].hist(bins=100)"
   ]
  },
  {
   "cell_type": "code",
   "execution_count": 9,
   "metadata": {},
   "outputs": [
    {
     "data": {
      "text/plain": [
       "<matplotlib.axes._subplots.AxesSubplot at 0x2367d606278>"
      ]
     },
     "execution_count": 9,
     "metadata": {},
     "output_type": "execute_result"
    },
    {
     "data": {
      "image/png": "[encoded data removed]",
      "text/plain": [
       "<Figure size 432x288 with 1 Axes>"
      ]
     },
     "metadata": {
      "needs_background": "light"
     },
     "output_type": "display_data"
    }
   ],
   "source": [
    "x[\"TimeHour\"].apply(lambda i: i.hour).value_counts().plot()"
   ]
  },
  {
   "cell_type": "code",
   "execution_count": 11,
   "metadata": {},
   "outputs": [
    {
     "data": {
      "text/plain": [
       "<matplotlib.axes._subplots.AxesSubplot at 0x2360db02748>"
      ]
     },
     "execution_count": 11,
     "metadata": {},
     "output_type": "execute_result"
    },
    {
     "data": {
      "image/png": "[encoded data removed]",
      "text/plain": [
       "<Figure size 432x288 with 1 Axes>"
      ]
     },
     "metadata": {
      "needs_background": "light"
     },
     "output_type": "display_data"
    }
   ],
   "source": [
    "x[\"Flow\"].groupby(x[\"TimeHour\"].apply(lambda i: i.hour)).mean().plot()"
   ]
  },
  {
   "cell_type": "code",
   "execution_count": 95,
   "metadata": {},
   "outputs": [],
   "source": [
    "class predictor:\n",
    "    def __init__(self, data):\n",
    "        NL_holidays = [i[0] for i in holidays.Netherlands(years = [2018, 2019]).items()]\n",
    "        \n",
    "        hour_dummies = pd.get_dummies(data[\"TimeHour\"].apply(lambda i: i.hour), prefix=\"hour\")\n",
    "        month_dummies = pd.get_dummies(data[\"TimeHour\"].apply(lambda i: i.month), prefix=\"month\")\n",
    "        \n",
    "        is_holiday = data[\"TimeHour\"].apply(lambda i: i.date() in NL_holidays).astype(int)\n",
    "        \n",
    "        self.y = data[\"Flow\"]\n",
    "        self.X = pd.concat([hour_dummies, month_dummies, is_holiday], axis=1)\n",
    "        self.X[\"Constant\"] = 1"
   ]
  },
  {
   "cell_type": "code",
   "execution_count": 68,
   "metadata": {},
   "outputs": [],
   "source": [
    "shared_indices = np.intersect1d(rain_prediction[0][\"start\"].values, x[\"TimeHour\"].values)\n",
    "rp_indices = rain_prediction[0][\"start\"].reset_index(drop=False).set_index(\"start\").reindex(shared_indices).values.flatten()"
   ]
  },
  {
   "cell_type": "code",
   "execution_count": 92,
   "metadata": {},
   "outputs": [],
   "source": [
    "y = x.set_index(\"TimeHour\").reindex(shared_indices)[\"Flow\"].values"
   ]
  },
  {
   "cell_type": "code",
   "execution_count": 103,
   "metadata": {},
   "outputs": [],
   "source": [
    "#X = rain_prediction[1][rp_indices]\n",
    "X_grid = rain_grid[rp_indices]"
   ]
  },
  {
   "cell_type": "code",
   "execution_count": 108,
   "metadata": {},
   "outputs": [],
   "source": [
    "X_grid = X_grid.reshape(X_grid.shape[0], X_grid.shape[1] * X_grid.shape[2])"
   ]
  },
  {
   "cell_type": "code",
   "execution_count": 109,
   "metadata": {},
   "outputs": [],
   "source": [
    "df = x.set_index(\"TimeHour\").reindex(shared_indices).reset_index(drop=False)\n",
    "X = predictor(df).X.values"
   ]
  },
  {
   "cell_type": "code",
   "execution_count": 118,
   "metadata": {},
   "outputs": [],
   "source": [
    "X = np.concatenate((X_grid, X), axis=1)"
   ]
  },
  {
   "cell_type": "code",
   "execution_count": 125,
   "metadata": {},
   "outputs": [
    {
     "data": {
      "text/plain": [
       "(14424, 159)"
      ]
     },
     "execution_count": 125,
     "metadata": {},
     "output_type": "execute_result"
    }
   ],
   "source": [
    "X.shape"
   ]
  },
  {
   "cell_type": "markdown",
   "metadata": {},
   "source": [
    "# Model"
   ]
  },
  {
   "cell_type": "code",
   "execution_count": 120,
   "metadata": {},
   "outputs": [],
   "source": [
    "from keras.models import Sequential\n",
    "from keras.layers import Dense, Dropout, Conv2D, Flatten, GlobalMaxPooling2D, Conv1D, Input, GlobalAveragePooling1D, Lambda\n",
    "from keras.layers import Bidirectional, AveragePooling1D, GaussianNoise, Concatenate, SeparableConv2D\n",
    "from keras.layers import concatenate, MaxPooling2D, AveragePooling2D, GlobalAveragePooling3D, GlobalAveragePooling2D\n",
    "from keras.wrappers.scikit_learn import KerasRegressor\n",
    "from sklearn.model_selection import cross_val_score\n",
    "from sklearn.model_selection import KFold\n",
    "from sklearn.preprocessing import StandardScaler\n",
    "from sklearn.pipeline import Pipeline\n",
    "from keras.layers.advanced_activations import LeakyReLU\n",
    "from keras.models import Model\n",
    "from keras import regularizers\n",
    "from sklearn.cluster import AgglomerativeClustering, DBSCAN, MeanShift, KMeans\n",
    "from keras.layers import DepthwiseConv2D\n",
    "from keras import optimizers\n",
    "from keras.layers import Layer, Reshape\n",
    "import keras.backend as K\n",
    "from keras.constraints import maxnorm, nonneg"
   ]
  },
  {
   "cell_type": "code",
   "execution_count": 132,
   "metadata": {},
   "outputs": [
    {
     "data": {
      "text/plain": [
       "(14424, 159)"
      ]
     },
     "execution_count": 132,
     "metadata": {},
     "output_type": "execute_result"
    }
   ],
   "source": [
    "X.shape"
   ]
  },
  {
   "cell_type": "code",
   "execution_count": 175,
   "metadata": {},
   "outputs": [
    {
     "name": "stdout",
     "output_type": "stream",
     "text": [
      "(None, None, 159)\n",
      "(None, None, 1)\n"
     ]
    }
   ],
   "source": [
    "#input_1 = Input(shape = (X.shape[1], X.shape[2]))\n",
    "input_1 = Input(shape = (None, X.shape[1]))\n",
    "\n",
    "# Multiply all values by smth\n",
    "#out = Flatten()(input_1)\n",
    "#out = ConstMultiplierLayer()(out)\n",
    "#out = Reshape(target_shape=(X.shape[1], X.shape[2], 1))(out)\n",
    "\n",
    "# TAKE AVG OF ALL VALUES \n",
    "#out = SumLayer()(out)\n",
    "out = Dense(1)(input_1)\n",
    "\n",
    "model = Model(input_1, out)\n",
    "model.compile(optimizer = optimizers.Adam(lr=0.001), loss='mean_squared_error')\n",
    "\n",
    "for i in model.layers:\n",
    "    print(i.output_shape)"
   ]
  },
  {
   "cell_type": "code",
   "execution_count": 192,
   "metadata": {},
   "outputs": [
    {
     "name": "stdout",
     "output_type": "stream",
     "text": [
      "(None, 10)\n",
      "(None, 1)\n"
     ]
    }
   ],
   "source": [
    "model = Sequential()\n",
    "model.add(Dense(10, input_dim=159, activation=\"relu\"))\n",
    "model.add(Dense(1))\n",
    "\n",
    "model.compile(optimizer = optimizers.Adam(lr=0.01), loss='mean_squared_error')\n",
    "\n",
    "for i in model.layers:\n",
    "    print(i.output_shape)"
   ]
  },
  {
   "cell_type": "code",
   "execution_count": 193,
   "metadata": {},
   "outputs": [
    {
     "name": "stdout",
     "output_type": "stream",
     "text": [
      "Train on 12981 samples, validate on 1443 samples\n",
      "Epoch 1/150\n",
      "12981/12981 [==============================] - 1s 67us/step - loss: 164861.5529 - val_loss: 36734.9118\n",
      "Epoch 2/150\n",
      "12981/12981 [==============================] - 0s 16us/step - loss: 50736.6824 - val_loss: 35220.0799\n",
      "Epoch 3/150\n",
      "12981/12981 [==============================] - 0s 9us/step - loss: 48393.5930 - val_loss: 33931.1184\n",
      "Epoch 4/150\n",
      "12981/12981 [==============================] - 0s 13us/step - loss: 47034.3124 - val_loss: 33302.6729\n",
      "Epoch 5/150\n",
      "12981/12981 [==============================] - 0s 15us/step - loss: 46191.8705 - val_loss: 32697.5399\n",
      "Epoch 6/150\n",
      "12981/12981 [==============================] - 0s 8us/step - loss: 45498.5634 - val_loss: 32089.2605\n",
      "Epoch 7/150\n",
      "12981/12981 [==============================] - 0s 7us/step - loss: 44762.9589 - val_loss: 31455.5798\n",
      "Epoch 8/150\n",
      "12981/12981 [==============================] - 0s 7us/step - loss: 43989.3968 - val_loss: 30776.2003\n",
      "Epoch 9/150\n",
      "12981/12981 [==============================] - 0s 11us/step - loss: 43184.2923 - val_loss: 30040.4565\n",
      "Epoch 10/150\n",
      "12981/12981 [==============================] - 0s 11us/step - loss: 42319.2748 - val_loss: 29293.0941\n",
      "Epoch 11/150\n",
      "12981/12981 [==============================] - 0s 11us/step - loss: 41461.5992 - val_loss: 28578.3042\n",
      "Epoch 12/150\n",
      "12981/12981 [==============================] - 0s 29us/step - loss: 40611.7613 - val_loss: 27704.9847\n",
      "Epoch 13/150\n",
      "12981/12981 [==============================] - 0s 13us/step - loss: 39744.0070 - val_loss: 27141.3907\n",
      "Epoch 14/150\n",
      "12981/12981 [==============================] - 0s 12us/step - loss: 38920.2887 - val_loss: 26394.1714\n",
      "Epoch 15/150\n",
      "12981/12981 [==============================] - 0s 10us/step - loss: 38216.2419 - val_loss: 25822.4276\n",
      "Epoch 16/150\n",
      "12981/12981 [==============================] - 0s 8us/step - loss: 37605.0143 - val_loss: 25380.3606\n",
      "Epoch 17/150\n",
      "12981/12981 [==============================] - 0s 11us/step - loss: 37110.8398 - val_loss: 25101.4783\n",
      "Epoch 18/150\n",
      "12981/12981 [==============================] - 0s 8us/step - loss: 36730.8163 - val_loss: 24730.5473\n",
      "Epoch 19/150\n",
      "12981/12981 [==============================] - 0s 9us/step - loss: 36430.9051 - val_loss: 24532.0089\n",
      "Epoch 20/150\n",
      "12981/12981 [==============================] - 0s 10us/step - loss: 36198.2315 - val_loss: 24244.8944\n",
      "Epoch 21/150\n",
      "12981/12981 [==============================] - 0s 10us/step - loss: 35990.9000 - val_loss: 24276.5570\n",
      "Epoch 22/150\n",
      "12981/12981 [==============================] - 0s 12us/step - loss: 35880.5730 - val_loss: 24060.9732\n",
      "Epoch 23/150\n",
      "12981/12981 [==============================] - 0s 9us/step - loss: 35763.3115 - val_loss: 24015.0257\n",
      "Epoch 24/150\n",
      "12981/12981 [==============================] - 0s 11us/step - loss: 35687.2543 - val_loss: 23868.2922\n",
      "Epoch 25/150\n",
      "12981/12981 [==============================] - 0s 27us/step - loss: 35611.1470 - val_loss: 23861.8066\n",
      "Epoch 26/150\n",
      "12981/12981 [==============================] - 0s 16us/step - loss: 35568.8944 - val_loss: 23854.7904\n",
      "Epoch 27/150\n",
      "12981/12981 [==============================] - 0s 11us/step - loss: 35527.6413 - val_loss: 23707.9494\n",
      "Epoch 28/150\n",
      "12981/12981 [==============================] - 0s 8us/step - loss: 35486.5495 - val_loss: 23744.7911\n",
      "Epoch 29/150\n",
      "12981/12981 [==============================] - 0s 11us/step - loss: 35418.8018 - val_loss: 23785.6760\n",
      "Epoch 30/150\n",
      "12981/12981 [==============================] - 0s 13us/step - loss: 35394.4000 - val_loss: 23668.2091\n",
      "Epoch 31/150\n",
      "12981/12981 [==============================] - 0s 21us/step - loss: 35350.3808 - val_loss: 23736.6630\n",
      "Epoch 32/150\n",
      "12981/12981 [==============================] - 0s 14us/step - loss: 35314.0478 - val_loss: 23699.2087\n",
      "Epoch 33/150\n",
      "12981/12981 [==============================] - 0s 13us/step - loss: 35285.8544 - val_loss: 23684.2026\n",
      "Epoch 34/150\n",
      "12981/12981 [==============================] - 0s 10us/step - loss: 35255.2759 - val_loss: 23677.3996\n",
      "Epoch 35/150\n",
      "12981/12981 [==============================] - 0s 10us/step - loss: 35220.7994 - val_loss: 23694.7790\n",
      "Epoch 36/150\n",
      "12981/12981 [==============================] - 0s 11us/step - loss: 35196.0228 - val_loss: 23647.4965\n",
      "Epoch 37/150\n",
      "12981/12981 [==============================] - 0s 21us/step - loss: 35173.3281 - val_loss: 23680.4111\n",
      "Epoch 38/150\n",
      "12981/12981 [==============================] - 0s 13us/step - loss: 35151.7350 - val_loss: 23627.3876\n",
      "Epoch 39/150\n",
      "12981/12981 [==============================] - 0s 19us/step - loss: 35159.1010 - val_loss: 23657.8316\n",
      "Epoch 40/150\n",
      "12981/12981 [==============================] - 0s 15us/step - loss: 35146.7687 - val_loss: 23698.5565\n",
      "Epoch 41/150\n",
      "12981/12981 [==============================] - 0s 10us/step - loss: 35089.6888 - val_loss: 23591.0899\n",
      "Epoch 42/150\n",
      "12981/12981 [==============================] - 0s 8us/step - loss: 35069.9290 - val_loss: 23641.0114\n",
      "Epoch 43/150\n",
      "12981/12981 [==============================] - 0s 8us/step - loss: 35049.5778 - val_loss: 23579.7108\n",
      "Epoch 44/150\n",
      "12981/12981 [==============================] - 0s 11us/step - loss: 35035.3420 - val_loss: 23641.8705\n",
      "Epoch 45/150\n",
      "12981/12981 [==============================] - 0s 14us/step - loss: 35009.2580 - val_loss: 23615.4967\n",
      "Epoch 46/150\n",
      "12981/12981 [==============================] - 0s 11us/step - loss: 34990.9024 - val_loss: 23652.6645\n",
      "Epoch 47/150\n",
      "12981/12981 [==============================] - 0s 13us/step - loss: 34989.1066 - val_loss: 23611.7740\n",
      "Epoch 48/150\n",
      "12981/12981 [==============================] - 0s 17us/step - loss: 34980.7664 - val_loss: 23545.0776\n",
      "Epoch 49/150\n",
      "12981/12981 [==============================] - 0s 22us/step - loss: 34957.8492 - val_loss: 23624.6555\n",
      "Epoch 50/150\n",
      "12981/12981 [==============================] - 0s 12us/step - loss: 34933.4153 - val_loss: 23631.5485\n",
      "Epoch 51/150\n",
      "12981/12981 [==============================] - 0s 9us/step - loss: 34923.2099 - val_loss: 23592.8361\n",
      "Epoch 52/150\n",
      "12981/12981 [==============================] - 0s 15us/step - loss: 34911.7849 - val_loss: 23605.9879\n",
      "Epoch 53/150\n",
      "12981/12981 [==============================] - 0s 22us/step - loss: 34887.4279 - val_loss: 23627.3364\n",
      "Epoch 54/150\n",
      "12981/12981 [==============================] - 0s 11us/step - loss: 34874.5522 - val_loss: 23663.0008\n",
      "Epoch 55/150\n",
      "12981/12981 [==============================] - 0s 17us/step - loss: 34868.7761 - val_loss: 23644.8104\n",
      "Epoch 56/150\n",
      "12981/12981 [==============================] - 0s 17us/step - loss: 34876.1947 - val_loss: 23696.9256\n",
      "Epoch 57/150\n",
      "12981/12981 [==============================] - 0s 15us/step - loss: 34848.7336 - val_loss: 23673.7264\n",
      "Epoch 58/150\n",
      "12981/12981 [==============================] - 0s 15us/step - loss: 34832.1509 - val_loss: 23647.9705\n",
      "Epoch 59/150\n",
      "12981/12981 [==============================] - 1s 39us/step - loss: 34811.3780 - val_loss: 23634.1384\n",
      "Epoch 60/150\n",
      "12981/12981 [==============================] - 0s 13us/step - loss: 34803.5349 - val_loss: 23628.1699\n",
      "Epoch 61/150\n",
      "12981/12981 [==============================] - 0s 9us/step - loss: 34796.2935 - val_loss: 23620.3197\n",
      "Epoch 62/150\n",
      "12981/12981 [==============================] - 0s 12us/step - loss: 34780.4706 - val_loss: 23590.7413\n",
      "Epoch 63/150\n",
      "12981/12981 [==============================] - 0s 10us/step - loss: 34770.2311 - val_loss: 23561.2738\n",
      "Epoch 64/150\n",
      "12981/12981 [==============================] - 0s 13us/step - loss: 34764.2885 - val_loss: 23682.5510\n",
      "Epoch 65/150\n",
      "12981/12981 [==============================] - 0s 15us/step - loss: 34766.1966 - val_loss: 23561.8720\n",
      "Epoch 66/150\n",
      "12981/12981 [==============================] - 0s 11us/step - loss: 34730.0329 - val_loss: 23733.7219\n",
      "Epoch 67/150\n",
      "12981/12981 [==============================] - 0s 8us/step - loss: 34732.6608 - val_loss: 23580.1012\n",
      "Epoch 68/150\n",
      "12981/12981 [==============================] - 0s 9us/step - loss: 34702.1470 - val_loss: 23605.5648\n",
      "Epoch 69/150\n",
      "12981/12981 [==============================] - 0s 24us/step - loss: 34701.5176 - val_loss: 23580.6910\n",
      "Epoch 70/150\n",
      "12981/12981 [==============================] - 0s 25us/step - loss: 34685.2557 - val_loss: 23584.8914\n",
      "Epoch 71/150\n",
      "12981/12981 [==============================] - 0s 9us/step - loss: 34657.3770 - val_loss: 23579.3650\n",
      "Epoch 72/150\n"
     ]
    },
    {
     "name": "stdout",
     "output_type": "stream",
     "text": [
      "12981/12981 [==============================] - 0s 12us/step - loss: 34648.3504 - val_loss: 23580.3785\n",
      "Epoch 73/150\n",
      "12981/12981 [==============================] - 0s 11us/step - loss: 34637.0032 - val_loss: 23600.7720\n",
      "Epoch 74/150\n",
      "12981/12981 [==============================] - 0s 7us/step - loss: 34613.2496 - val_loss: 23551.9251\n",
      "Epoch 75/150\n",
      "12981/12981 [==============================] - 0s 13us/step - loss: 34603.2372 - val_loss: 23535.0682\n",
      "Epoch 76/150\n",
      "12981/12981 [==============================] - 0s 10us/step - loss: 34584.6112 - val_loss: 23504.9718\n",
      "Epoch 77/150\n",
      "12981/12981 [==============================] - 0s 6us/step - loss: 34561.1518 - val_loss: 23610.1303\n",
      "Epoch 78/150\n",
      "12981/12981 [==============================] - 0s 8us/step - loss: 34555.8271 - val_loss: 23567.1369\n",
      "Epoch 79/150\n",
      "12981/12981 [==============================] - 0s 10us/step - loss: 34551.6934 - val_loss: 23499.7878\n",
      "Epoch 80/150\n",
      "12981/12981 [==============================] - 0s 10us/step - loss: 34531.2039 - val_loss: 23467.8550\n",
      "Epoch 81/150\n",
      "12981/12981 [==============================] - 0s 7us/step - loss: 34513.9944 - val_loss: 23522.4623\n",
      "Epoch 82/150\n",
      "12981/12981 [==============================] - 0s 8us/step - loss: 34483.0566 - val_loss: 23473.1055\n",
      "Epoch 83/150\n",
      "12981/12981 [==============================] - 0s 23us/step - loss: 34470.6408 - val_loss: 23468.7996\n",
      "Epoch 84/150\n",
      "12981/12981 [==============================] - 0s 17us/step - loss: 34458.9222 - val_loss: 23491.4174\n",
      "Epoch 85/150\n",
      "12981/12981 [==============================] - 0s 10us/step - loss: 34439.9827 - val_loss: 23444.3333\n",
      "Epoch 86/150\n",
      "12981/12981 [==============================] - 0s 10us/step - loss: 34408.6474 - val_loss: 23472.6315\n",
      "Epoch 87/150\n",
      "12981/12981 [==============================] - 0s 9us/step - loss: 34401.3933 - val_loss: 23491.8190\n",
      "Epoch 88/150\n",
      "12981/12981 [==============================] - 0s 14us/step - loss: 34382.5371 - val_loss: 23424.8339\n",
      "Epoch 89/150\n",
      "12981/12981 [==============================] - 0s 6us/step - loss: 34351.8470 - val_loss: 23461.6778\n",
      "Epoch 90/150\n",
      "12981/12981 [==============================] - 0s 11us/step - loss: 34333.1646 - val_loss: 23444.1392\n",
      "Epoch 91/150\n",
      "12981/12981 [==============================] - 0s 13us/step - loss: 34318.4303 - val_loss: 23394.6136\n",
      "Epoch 92/150\n",
      "12981/12981 [==============================] - 0s 6us/step - loss: 34291.8539 - val_loss: 23400.9004\n",
      "Epoch 93/150\n",
      "12981/12981 [==============================] - 0s 12us/step - loss: 34274.9003 - val_loss: 23383.4040\n",
      "Epoch 94/150\n",
      "12981/12981 [==============================] - 0s 9us/step - loss: 34259.6109 - val_loss: 23443.6152\n",
      "Epoch 95/150\n",
      "12981/12981 [==============================] - 0s 6us/step - loss: 34253.1573 - val_loss: 23383.8678\n",
      "Epoch 96/150\n",
      "12981/12981 [==============================] - 0s 29us/step - loss: 34214.9763 - val_loss: 23372.6204\n",
      "Epoch 97/150\n",
      "12981/12981 [==============================] - 0s 14us/step - loss: 34199.8955 - val_loss: 23362.5176\n",
      "Epoch 98/150\n",
      "12981/12981 [==============================] - 0s 10us/step - loss: 34183.6332 - val_loss: 23348.2925\n",
      "Epoch 99/150\n",
      "12981/12981 [==============================] - 0s 15us/step - loss: 34159.8025 - val_loss: 23317.0384\n",
      "Epoch 100/150\n",
      "12981/12981 [==============================] - 0s 10us/step - loss: 34143.9159 - val_loss: 23353.2441\n",
      "Epoch 101/150\n",
      "12981/12981 [==============================] - 0s 16us/step - loss: 34121.3662 - val_loss: 23339.9898\n",
      "Epoch 102/150\n",
      "12981/12981 [==============================] - 0s 9us/step - loss: 34131.3659 - val_loss: 23447.7988\n",
      "Epoch 103/150\n",
      "12981/12981 [==============================] - 0s 8us/step - loss: 34098.6484 - val_loss: 23330.3903\n",
      "Epoch 104/150\n",
      "12981/12981 [==============================] - 0s 12us/step - loss: 34074.3952 - val_loss: 23377.0396\n",
      "Epoch 105/150\n",
      "12981/12981 [==============================] - 0s 13us/step - loss: 34052.6202 - val_loss: 23251.2980\n",
      "Epoch 106/150\n",
      "12981/12981 [==============================] - 0s 13us/step - loss: 34033.7563 - val_loss: 23363.9997\n",
      "Epoch 107/150\n",
      "12981/12981 [==============================] - 0s 29us/step - loss: 34027.9590 - val_loss: 23337.5571\n",
      "Epoch 108/150\n",
      "12981/12981 [==============================] - 0s 23us/step - loss: 34008.2730 - val_loss: 23343.1225\n",
      "Epoch 109/150\n",
      "12981/12981 [==============================] - 0s 12us/step - loss: 34002.3452 - val_loss: 23314.9654\n",
      "Epoch 110/150\n",
      "12981/12981 [==============================] - 0s 15us/step - loss: 33971.8869 - val_loss: 23278.8395\n",
      "Epoch 111/150\n",
      "12981/12981 [==============================] - 0s 12us/step - loss: 33957.4453 - val_loss: 23246.7615\n",
      "Epoch 112/150\n",
      "12981/12981 [==============================] - 0s 12us/step - loss: 33960.6509 - val_loss: 23186.8512\n",
      "Epoch 113/150\n",
      "12981/12981 [==============================] - 0s 12us/step - loss: 33939.8401 - val_loss: 23260.6235\n",
      "Epoch 114/150\n",
      "12981/12981 [==============================] - 0s 12us/step - loss: 33923.2576 - val_loss: 23260.7689\n",
      "Epoch 115/150\n",
      "12981/12981 [==============================] - 0s 12us/step - loss: 33909.1203 - val_loss: 23262.8245\n",
      "Epoch 116/150\n",
      "12981/12981 [==============================] - 0s 12us/step - loss: 33896.1887 - val_loss: 23260.8681\n",
      "Epoch 117/150\n",
      "12981/12981 [==============================] - 0s 7us/step - loss: 33892.6986 - val_loss: 23328.9235\n",
      "Epoch 118/150\n",
      "12981/12981 [==============================] - 0s 7us/step - loss: 33878.9711 - val_loss: 23214.6529\n",
      "Epoch 119/150\n",
      "12981/12981 [==============================] - 0s 32us/step - loss: 33862.5887 - val_loss: 23244.3017\n",
      "Epoch 120/150\n",
      "12981/12981 [==============================] - 0s 8us/step - loss: 33853.1897 - val_loss: 23249.0368\n",
      "Epoch 121/150\n",
      "12981/12981 [==============================] - 0s 10us/step - loss: 33859.3698 - val_loss: 23200.1178\n",
      "Epoch 122/150\n",
      "12981/12981 [==============================] - 0s 7us/step - loss: 33837.6058 - val_loss: 23233.2172\n",
      "Epoch 123/150\n",
      "12981/12981 [==============================] - 0s 14us/step - loss: 33833.4230 - val_loss: 23263.2579\n",
      "Epoch 124/150\n",
      "12981/12981 [==============================] - 0s 10us/step - loss: 33816.5724 - val_loss: 23242.4450\n",
      "Epoch 125/150\n",
      "12981/12981 [==============================] - 0s 13us/step - loss: 33823.0812 - val_loss: 23276.5604\n",
      "Epoch 126/150\n",
      "12981/12981 [==============================] - 0s 13us/step - loss: 33809.5696 - val_loss: 23291.5823\n",
      "Epoch 127/150\n",
      "12981/12981 [==============================] - 0s 11us/step - loss: 33823.8463 - val_loss: 23443.5686\n",
      "Epoch 128/150\n",
      "12981/12981 [==============================] - 0s 10us/step - loss: 33811.5824 - val_loss: 23224.0334\n",
      "Epoch 129/150\n",
      "12981/12981 [==============================] - 0s 11us/step - loss: 33780.6132 - val_loss: 23251.6541\n",
      "Epoch 130/150\n",
      "12981/12981 [==============================] - 0s 13us/step - loss: 33779.0365 - val_loss: 23213.5972\n",
      "Epoch 131/150\n",
      "12981/12981 [==============================] - 0s 20us/step - loss: 33788.4771 - val_loss: 23219.0400\n",
      "Epoch 132/150\n",
      "12981/12981 [==============================] - 0s 17us/step - loss: 33772.3077 - val_loss: 23332.1243\n",
      "Epoch 133/150\n",
      "12981/12981 [==============================] - 0s 12us/step - loss: 33770.5863 - val_loss: 23177.9210\n",
      "Epoch 134/150\n",
      "12981/12981 [==============================] - 0s 18us/step - loss: 33780.3813 - val_loss: 23247.6610\n",
      "Epoch 135/150\n",
      "12981/12981 [==============================] - 0s 14us/step - loss: 33758.9887 - val_loss: 23295.9905\n",
      "Epoch 136/150\n",
      "12981/12981 [==============================] - 0s 14us/step - loss: 33745.8108 - val_loss: 23223.9922\n",
      "Epoch 137/150\n",
      "12981/12981 [==============================] - 0s 11us/step - loss: 33740.1484 - val_loss: 23393.4283\n",
      "Epoch 138/150\n",
      "12981/12981 [==============================] - 0s 10us/step - loss: 33740.2190 - val_loss: 23183.6508\n",
      "Epoch 139/150\n",
      "12981/12981 [==============================] - 0s 13us/step - loss: 33752.6870 - val_loss: 23342.1088\n",
      "Epoch 140/150\n",
      "12981/12981 [==============================] - 0s 15us/step - loss: 33728.8979 - val_loss: 23216.8706\n",
      "Epoch 141/150\n",
      "12981/12981 [==============================] - 0s 8us/step - loss: 33728.6508 - val_loss: 23279.7882\n",
      "Epoch 142/150\n",
      "12981/12981 [==============================] - 0s 28us/step - loss: 33722.9678 - val_loss: 23333.6953\n",
      "Epoch 143/150\n"
     ]
    },
    {
     "name": "stdout",
     "output_type": "stream",
     "text": [
      "12981/12981 [==============================] - 0s 15us/step - loss: 33718.6894 - val_loss: 23226.3311\n",
      "Epoch 144/150\n",
      "12981/12981 [==============================] - 0s 6us/step - loss: 33719.1576 - val_loss: 23308.6417\n",
      "Epoch 145/150\n",
      "12981/12981 [==============================] - 0s 14us/step - loss: 33713.1343 - val_loss: 23307.4297\n",
      "Epoch 146/150\n",
      "12981/12981 [==============================] - 0s 16us/step - loss: 33727.3017 - val_loss: 23340.5558\n",
      "Epoch 147/150\n",
      "12981/12981 [==============================] - 0s 8us/step - loss: 33715.7898 - val_loss: 23319.9002\n",
      "Epoch 148/150\n",
      "12981/12981 [==============================] - 0s 12us/step - loss: 33709.7553 - val_loss: 23240.3245\n",
      "Epoch 149/150\n",
      "12981/12981 [==============================] - 0s 20us/step - loss: 33701.4516 - val_loss: 23304.5394\n",
      "Epoch 150/150\n",
      "12981/12981 [==============================] - 0s 8us/step - loss: 33702.3477 - val_loss: 23365.4451\n"
     ]
    },
    {
     "data": {
      "text/plain": [
       "<keras.callbacks.History at 0x23608b9d208>"
      ]
     },
     "execution_count": 193,
     "metadata": {},
     "output_type": "execute_result"
    }
   ],
   "source": [
    "model.fit(X, y, validation_split=0.1, epochs=150, batch_size=512, shuffle=True)"
   ]
  },
  {
   "cell_type": "code",
   "execution_count": 187,
   "metadata": {},
   "outputs": [],
   "source": [
    "weights = model.layers[0].get_weights()[0].flatten()[0:121].reshape(11,11)"
   ]
  },
  {
   "cell_type": "code",
   "execution_count": 189,
   "metadata": {},
   "outputs": [
    {
     "data": {
      "text/plain": [
       "<matplotlib.image.AxesImage at 0x2360885a518>"
      ]
     },
     "execution_count": 189,
     "metadata": {},
     "output_type": "execute_result"
    },
    {
     "data": {
      "image/png": "[encoded data removed]",
      "text/plain": [
       "<Figure size 432x288 with 1 Axes>"
      ]
     },
     "metadata": {
      "needs_background": "light"
     },
     "output_type": "display_data"
    }
   ],
   "source": [
    "plt.imshow(weights) # 11x11 grid around Drunen -- parameters from model visualized, no pattern"
   ]
  },
  {
   "cell_type": "code",
   "execution_count": 184,
   "metadata": {},
   "outputs": [],
   "source": [
    "weights = model.layers[0].get_weights()[0].flatten()[(121+0):(121+24)]#.reshape(11,11)"
   ]
  },
  {
   "cell_type": "code",
   "execution_count": 185,
   "metadata": {},
   "outputs": [
    {
     "data": {
      "text/plain": [
       "<matplotlib.axes._subplots.AxesSubplot at 0x236085fd6a0>"
      ]
     },
     "execution_count": 185,
     "metadata": {},
     "output_type": "execute_result"
    },
    {
     "data": {
      "image/png": "[encoded data removed]",
      "text/plain": [
       "<Figure size 432x288 with 1 Axes>"
      ]
     },
     "metadata": {
      "needs_background": "light"
     },
     "output_type": "display_data"
    }
   ],
   "source": [
    "pd.Series(weights).plot() # Time of the day parameters visualized"
   ]
  },
  {
   "cell_type": "code",
   "execution_count": 66,
   "metadata": {},
   "outputs": [
    {
     "data": {
      "text/plain": [
       "<matplotlib.image.AxesImage at 0x2360590aba8>"
      ]
     },
     "execution_count": 66,
     "metadata": {},
     "output_type": "execute_result"
    },
    {
     "data": {
      "image/png": "[encoded data removed]",
      "text/plain": [
       "<Figure size 432x288 with 1 Axes>"
      ]
     },
     "metadata": {
      "needs_background": "light"
     },
     "output_type": "display_data"
    }
   ],
   "source": [
    "plt.imshow(model.layers[2].get_weights()[0].flatten().reshape((7,7))) # 7x7 grid around Drunen -- parameters from model visualized, no pattern"
   ]
  },
  {
   "cell_type": "code",
   "execution_count": 73,
   "metadata": {},
   "outputs": [
    {
     "data": {
      "text/plain": [
       "<matplotlib.image.AxesImage at 0x23605c370f0>"
      ]
     },
     "execution_count": 73,
     "metadata": {},
     "output_type": "execute_result"
    },
    {
     "data": {
      "image/png": "[encoded data removed]",
      "text/plain": [
       "<Figure size 432x288 with 1 Axes>"
      ]
     },
     "metadata": {
      "needs_background": "light"
     },
     "output_type": "display_data"
    }
   ],
   "source": [
    "plt.imshow(model.layers[2].get_weights()[0].flatten().reshape((9,9))) # 9x9 grid around Drunen -- parameters from model visualized, no pattern"
   ]
  },
  {
   "cell_type": "code",
   "execution_count": 90,
   "metadata": {},
   "outputs": [
    {
     "data": {
      "text/plain": [
       "<matplotlib.image.AxesImage at 0x23606c3b128>"
      ]
     },
     "execution_count": 90,
     "metadata": {},
     "output_type": "execute_result"
    },
    {
     "data": {
      "image/png": "[encoded data removed]",
      "text/plain": [
       "<Figure size 432x288 with 1 Axes>"
      ]
     },
     "metadata": {
      "needs_background": "light"
     },
     "output_type": "display_data"
    }
   ],
   "source": [
    "weights = model.layers[2].get_weights()[0].flatten().reshape((21,21)) # 21x21 grid around Drunen -- parameters from model visualized, no pattern\n",
    "\n",
    "plt.imshow(weights, interpolation=\"bicubic\")"
   ]
  },
  {
   "cell_type": "code",
   "execution_count": 36,
   "metadata": {},
   "outputs": [],
   "source": [
    "class ConstMultiplierLayer(Layer):\n",
    "    def __init__(self, **kwargs):\n",
    "        super(ConstMultiplierLayer, self).__init__(**kwargs)\n",
    "\n",
    "    def build(self, input_shape, regularizer=None):\n",
    "        self.k = self.add_weight(\n",
    "            name='k',\n",
    "            shape=(input_shape[1],),\n",
    "            regularizer=regularizer,\n",
    "            initializer='zeros',\n",
    "            dtype='float32',\n",
    "            trainable=True,\n",
    "            constraint=nonneg()\n",
    "        )\n",
    "        super(ConstMultiplierLayer, self).build(input_shape)\n",
    "\n",
    "    def call(self, x):\n",
    "        return K.tf.multiply(self.k, x)\n",
    "\n",
    "    def compute_output_shape(self, input_shape):\n",
    "        return input_shape\n",
    "\n",
    "    \n",
    "class AvgLayer(Layer):\n",
    "    def __init__(self, **kwargs):\n",
    "        super(AvgLayer, self).__init__(**kwargs)\n",
    "\n",
    "    def build(self, input_shape):\n",
    "        super(AvgLayer, self).build(input_shape)\n",
    "\n",
    "    def call(self, x):\n",
    "        return K.mean(x)\n",
    "\n",
    "    def compute_output_shape(self, input_shape):\n",
    "        return (None,1)\n",
    "    \n",
    "\n",
    "class SumLayer(Layer):\n",
    "    def __init__(self, **kwargs):\n",
    "        super(SumLayer, self).__init__(**kwargs)\n",
    "\n",
    "    def build(self, input_shape):\n",
    "        super(SumLayer, self).build(input_shape)\n",
    "\n",
    "    def call(self, x):\n",
    "        return K.sum(x)\n",
    "\n",
    "    def compute_output_shape(self, input_shape):\n",
    "        return (None,1)\n",
    "\n",
    "\n",
    "def matlab_style_gauss2D(shape=(3,3),sigma=0.5):\n",
    "    \"\"\"\n",
    "    2D gaussian mask - should give the same result as MATLAB's\n",
    "    fspecial('gaussian',[shape],[sigma])\n",
    "    \"\"\"\n",
    "    m,n = [(ss-1.)/2. for ss in shape]\n",
    "    y,x = np.ogrid[-m:m+1,-n:n+1]\n",
    "    h = np.exp( -(x*x + y*y) / (2.*sigma*sigma) )\n",
    "    h[ h < np.finfo(h.dtype).eps*h.max() ] = 0\n",
    "    sumh = h.sum()\n",
    "    if sumh != 0:\n",
    "        h /= sumh\n",
    "    return h"
   ]
  },
  {
   "cell_type": "code",
   "execution_count": 38,
   "metadata": {},
   "outputs": [
    {
     "name": "stdout",
     "output_type": "stream",
     "text": [
      "WARNING:tensorflow:From C:\\Users\\sdannehl\\Anaconda3\\lib\\site-packages\\keras\\backend\\tensorflow_backend.py:174: The name tf.get_default_session is deprecated. Please use tf.compat.v1.get_default_session instead.\n",
      "\n",
      "WARNING:tensorflow:From C:\\Users\\sdannehl\\Anaconda3\\lib\\site-packages\\keras\\backend\\tensorflow_backend.py:181: The name tf.ConfigProto is deprecated. Please use tf.compat.v1.ConfigProto instead.\n",
      "\n",
      "WARNING:tensorflow:From C:\\Users\\sdannehl\\Anaconda3\\lib\\site-packages\\keras\\optimizers.py:790: The name tf.train.Optimizer is deprecated. Please use tf.compat.v1.train.Optimizer instead.\n",
      "\n",
      "(None, 7, 7)\n",
      "(None, 49)\n",
      "(None, 49)\n",
      "(None, 7, 7, 1)\n",
      "(None, 7, 7, 1)\n",
      "(None, 49)\n",
      "(None, 1)\n"
     ]
    }
   ],
   "source": [
    "input_1 = Input(shape = (X.shape[1], X.shape[2]))\n",
    "\n",
    "#out = Conv1D(32, kernel_size=5, strides=2)(input_1)\n",
    "\n",
    "# Multiply all values by smth\n",
    "out = Flatten()(input_1)\n",
    "out = ConstMultiplierLayer()(out)\n",
    "out = Reshape(target_shape=(X.shape[1], X.shape[2], 1))(out)\n",
    "\n",
    "# Gaussian Smoothing\n",
    "kernel_size = 5\n",
    "in_channels = 1  # the number of input channels\n",
    "kernel_weights = matlab_style_gauss2D(shape=(kernel_size, kernel_size), sigma = 0.5)\n",
    "kernel_weights = np.expand_dims(kernel_weights, axis=-1)\n",
    "kernel_weights = np.repeat(kernel_weights, in_channels, axis=-1) # apply the same filter on all the input channels\n",
    "kernel_weights = np.expand_dims(kernel_weights, axis=-1)\n",
    "\n",
    "#print(kernel_weights)\n",
    "\n",
    "out = Conv2D(filters = 1, kernel_size=(kernel_size, kernel_size), use_bias=False, padding=\"same\")(out)\n",
    "\n",
    "out = Flatten()(out)\n",
    "\n",
    "# TAKE AVG OF ALL VALUES \n",
    "out = SumLayer()(out)\n",
    "\n",
    "\n",
    "\n",
    "\n",
    "model = Model(input_1, out)\n",
    "\n",
    "model.layers[4].set_weights([kernel_weights])\n",
    "model.layers[4].trainable = False\n",
    "\n",
    "model.compile(optimizer = optimizers.Adam(lr=0.001), loss='mean_squared_error')\n",
    "\n",
    "for i in model.layers:\n",
    "    print(i.output_shape)"
   ]
  },
  {
   "cell_type": "code",
   "execution_count": 222,
   "metadata": {},
   "outputs": [
    {
     "name": "stdout",
     "output_type": "stream",
     "text": [
      "Train on 13089 samples, validate on 1455 samples\n",
      "Epoch 1/5\n",
      "13089/13089 [==============================] - 67s 5ms/step - loss: 1307280464.7273 - val_loss: 37127.5742\n",
      "Epoch 2/5\n",
      "13089/13089 [==============================] - 63s 5ms/step - loss: 48663712.7686 - val_loss: 41860.7620\n",
      "Epoch 3/5\n",
      "13089/13089 [==============================] - 61s 5ms/step - loss: 13367637.8162 - val_loss: 40157.3815\n",
      "Epoch 4/5\n",
      "13089/13089 [==============================] - 58s 4ms/step - loss: 37173829.0081 - val_loss: 38055.0913\n",
      "Epoch 5/5\n",
      "13089/13089 [==============================] - 58s 4ms/step - loss: 27758002.5219 - val_loss: 40117.3126\n"
     ]
    },
    {
     "data": {
      "text/plain": [
       "<keras.callbacks.History at 0x1e700e69cf8>"
      ]
     },
     "execution_count": 222,
     "metadata": {},
     "output_type": "execute_result"
    }
   ],
   "source": [
    "model.fit(X, y, validation_split=0.1, epochs=5, batch_size=1024, shuffle=True)"
   ]
  },
  {
   "cell_type": "code",
   "execution_count": 223,
   "metadata": {},
   "outputs": [],
   "source": [
    "weights = model.layers[2].get_weights()[0].flatten().reshape(X.shape[1], X.shape[2])"
   ]
  },
  {
   "cell_type": "code",
   "execution_count": 224,
   "metadata": {},
   "outputs": [
    {
     "data": {
      "text/plain": [
       "(-0.5, 122.5, 104.5, -0.5)"
      ]
     },
     "execution_count": 224,
     "metadata": {},
     "output_type": "execute_result"
    },
    {
     "data": {
      "image/png": "[encoded data removed]",
      "text/plain": [
       "<Figure size 708.48x1096.2 with 1 Axes>"
      ]
     },
     "metadata": {
      "needs_background": "light"
     },
     "output_type": "display_data"
    }
   ],
   "source": [
    "fig, ax = plt.subplots(figsize = (6.56 * 1.5, 10.15 * 1.5))\n",
    "\n",
    "ax.imshow(scipy.ndimage.filters.gaussian_filter(weights, sigma=10), interpolation=\"bicubic\")   # Interpolation anti-aliases the image\n",
    "plt.axis('off')"
   ]
  }
 ],
 "metadata": {
  "kernelspec": {
   "display_name": "Python 3",
   "language": "python",
   "name": "python3"
  },
  "language_info": {
   "codemirror_mode": {
    "name": "ipython",
    "version": 3
   },
   "file_extension": ".py",
   "mimetype": "text/x-python",
   "name": "python",
   "nbconvert_exporter": "python",
   "pygments_lexer": "ipython3",
   "version": "3.7.3"
  }
 },
 "nbformat": 4,
 "nbformat_minor": 2
}
