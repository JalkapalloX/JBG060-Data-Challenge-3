{
 "cells": [
  {
   "cell_type": "code",
   "execution_count": 1,
   "metadata": {
    "collapsed": true
   },
   "outputs": [],
   "source": [
    "import load_files as lf\n",
    "import pandas as pd\n",
    "import numpy as np\n",
    "import matplotlib.pyplot as plt"
   ]
  },
  {
   "cell_type": "code",
   "execution_count": 3,
   "metadata": {},
   "outputs": [],
   "source": [
    "file_path = \"/Users/blazejmanczak/Desktop/Q1/DataChallenge3/\"\n",
    "flow_data_DRU, level_data_DRU = lf.get_measurements(file_path +\"/waterschap-aa-en-maas_sewage_2019/sewer_data/data_pump/RG8150\")\n",
    "flow_data_HAA, level_data_HAA = lf.get_measurements(file_path +\"/waterschap-aa-en-maas_sewage_2019/sewer_data/data_pump/RG8170\")\n",
    "rain_data = lf.get_rain(file_path +\"/waterschap-aa-en-maas_sewage_2019/sewer_data/rain_timeseries\")\n",
    "data = lf.sdf(file_path +\"/waterschap-aa-en-maas_sewage_2019/sewer_model/aa-en-maas_sewer_shp\")"
   ]
  },
  {
   "cell_type": "code",
   "execution_count": 38,
   "metadata": {
    "collapsed": true
   },
   "outputs": [],
   "source": [
    "data.area_data[\"village_ID\"] = data.area_data[\"sewer_system\"].str.slice(4,7)\n",
    "#area_names = rain_data.columns[3:]\n",
    "\n",
    "area_data_DRU = data.area_data.loc[data.area_data[\"village_ID\"] == \"DRU\"]\n",
    "area_data_HAA = data.area_data.loc[data.area_data[\"village_ID\"] == \"HAA\"]"
   ]
  },
  {
   "cell_type": "code",
   "execution_count": 55,
   "metadata": {
    "collapsed": true
   },
   "outputs": [],
   "source": [
    "# Areas belonging to specific pumps that are in the rain dataset\n",
    "DRU_areas = area_data_DRU[\"area_name\"][area_data_DRU[\"area_name\"].apply(lambda i: i in rain_data.columns)].to_list()\n",
    "HAA_areas = area_data_HAA[\"area_name\"][area_data_HAA[\"area_name\"].apply(lambda i: i in rain_data.columns)].to_list()"
   ]
  },
  {
   "cell_type": "code",
   "execution_count": 85,
   "metadata": {
    "collapsed": true
   },
   "outputs": [],
   "source": [
    "DRU_rain = rain_data.loc[:, [\"Start\", \"End\"] + DRU_areas]\n",
    "HAA_rain = rain_data.loc[:, [\"Start\", \"End\"] + HAA_areas]\n",
    "\n",
    "DRU_rain[\"Start\"] = pd.to_datetime(DRU_rain[\"Start\"])\n",
    "DRU_rain[\"Date\"] = DRU_rain[\"Start\"].apply(lambda i: i.date())\n",
    "DRU_rain[\"Total\"] = DRU_rain.iloc[:, 2:].sum(axis=1)\n",
    "DRU_rain = DRU_rain.groupby(\"Date\")[\"Total\"].sum().reset_index(drop=False)"
   ]
  },
  {
   "cell_type": "code",
   "execution_count": null,
   "metadata": {
    "collapsed": true
   },
   "outputs": [],

   "source": [
    "level_data_DRU[\"TimeStamp\"] = pd.to_datetime(level_data_DRU[\"TimeStamp\"])\n",
    "flow_data_DRU[\"TimeStamp\"] = pd.to_datetime(flow_data_DRU[\"TimeStamp\"])"
   ]
  },
  {
   "cell_type": "code",
   "execution_count": 95,
   "metadata": {
    "collapsed": true
   },
   "outputs": [],
   "source": [
    "level_data_DRU[\"Date\"] = level_data_DRU[\"TimeStamp\"].apply(lambda i: i.date())\n",
    "level_data_DRU = level_data_DRU.groupby(\"Date\")[\"Value\"].mean().reset_index(drop=False)"
   ]
  },
  {
   "cell_type": "code",

   "execution_count": 112,
   "metadata": {
    "collapsed": true
   },
   "outputs": [],
   "source": [
    "flow_data_DRU[\"Date\"] = flow_data_DRU[\"TimeStamp\"].apply(lambda i: i.date())\n",
    "flow_data_DRU = flow_data_DRU.groupby(\"Date\")[\"Value\"].mean().reset_index(drop=False)"
   ]
  },
  {
   "cell_type": "code",

   "execution_count": 113,

   "metadata": {
    "collapsed": true
   },
   "outputs": [],
   "source": [
    "DRU_rain_level = pd.merge(level_data_DRU, DRU_rain, on=\"Date\")\n",
    "DRU_rain_flow = pd.merge(flow_data_DRU, DRU_rain, on=\"Date\")"
   ]
  },
  {
   "cell_type": "code",

   "execution_count": 114,
   "metadata": {
    "collapsed": true
   },
   "outputs": [],
   "source": [
    "DRU_rain_level.to_csv(\"heya.csv\")\n",
    "DRU_rain_flow.to_csv(\"heya_flow.csv\")"
   ]

  },
  {
   "cell_type": "code",
   "execution_count": null,
   "metadata": {
    "collapsed": true
   },
   "outputs": [],
   "source": []

  }
 ],
 "metadata": {
  "kernelspec": {
   "display_name": "Python 3",
   "language": "python",
   "name": "python3"
  },
  "language_info": {
   "codemirror_mode": {
    "name": "ipython",
    "version": 3
   },
   "file_extension": ".py",
   "mimetype": "text/x-python",
   "name": "python",
   "nbconvert_exporter": "python",
   "pygments_lexer": "ipython3",
   "version": "3.6.9"
  }
 },
 "nbformat": 4,
 "nbformat_minor": 2
}
