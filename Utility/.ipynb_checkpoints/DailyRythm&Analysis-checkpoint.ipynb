{
 "cells": [
  {
   "cell_type": "markdown",
   "metadata": {},
   "source": [
    "# Importing and opening"
   ]
  },
  {
   "cell_type": "code",
   "execution_count": 2,
   "metadata": {
    "collapsed": true
   },
   "outputs": [],
   "source": [
    "import pandas as pd\n",
    "import numpy as np\n",
    "import matplotlib.pyplot as plt\n",
    "import datetime\n",
    "#import geopandas as gpd\n",
    "import os\n",
    "import re\n",
    "from matplotlib.ticker import MaxNLocator\n",
    "from load_files import get_measurements\n",
    "path = \"/Users/blazejmanczak/Desktop/Q1/DataChallenge3/waterschap-aa-en-maas_sewage_2019/\"\n",
    "\n",
    "%matplotlib inline"
   ]
  },
  {
   "cell_type": "code",
   "execution_count": 3,
   "metadata": {
    "collapsed": true
   },
   "outputs": [],
   "source": [
    "flow_data, level_data = get_measurements(path + \"sewer_data/data_pump/RG8150\", False)"
   ]
  },
  {
   "cell_type": "code",
   "execution_count": 4,
   "metadata": {},
   "outputs": [
    {
     "data": {
      "text/html": [
       "<div>\n",
       "<style scoped>\n",
       "    .dataframe tbody tr th:only-of-type {\n",
       "        vertical-align: middle;\n",
       "    }\n",
       "\n",
       "    .dataframe tbody tr th {\n",
       "        vertical-align: top;\n",
       "    }\n",
       "\n",
       "    .dataframe thead th {\n",
       "        text-align: right;\n",
       "    }\n",
       "</style>\n",
       "<table border=\"1\" class=\"dataframe\">\n",
       "  <thead>\n",
       "    <tr style=\"text-align: right;\">\n",
       "      <th></th>\n",
       "      <th>RG_ID</th>\n",
       "      <th>Value</th>\n",
       "      <th>DataQuality</th>\n",
       "    </tr>\n",
       "  </thead>\n",
       "  <tbody>\n",
       "    <tr>\n",
       "      <td>count</td>\n",
       "      <td>884203.0</td>\n",
       "      <td>884203.000000</td>\n",
       "      <td>884203.000000</td>\n",
       "    </tr>\n",
       "    <tr>\n",
       "      <td>mean</td>\n",
       "      <td>8150.0</td>\n",
       "      <td>-0.797148</td>\n",
       "      <td>0.994882</td>\n",
       "    </tr>\n",
       "    <tr>\n",
       "      <td>std</td>\n",
       "      <td>0.0</td>\n",
       "      <td>0.381277</td>\n",
       "      <td>0.071354</td>\n",
       "    </tr>\n",
       "    <tr>\n",
       "      <td>min</td>\n",
       "      <td>8150.0</td>\n",
       "      <td>-1.811214</td>\n",
       "      <td>0.000000</td>\n",
       "    </tr>\n",
       "    <tr>\n",
       "      <td>25%</td>\n",
       "      <td>8150.0</td>\n",
       "      <td>-1.103166</td>\n",
       "      <td>1.000000</td>\n",
       "    </tr>\n",
       "    <tr>\n",
       "      <td>50%</td>\n",
       "      <td>8150.0</td>\n",
       "      <td>-0.783741</td>\n",
       "      <td>1.000000</td>\n",
       "    </tr>\n",
       "    <tr>\n",
       "      <td>75%</td>\n",
       "      <td>8150.0</td>\n",
       "      <td>-0.483211</td>\n",
       "      <td>1.000000</td>\n",
       "    </tr>\n",
       "    <tr>\n",
       "      <td>max</td>\n",
       "      <td>8150.0</td>\n",
       "      <td>2.175049</td>\n",
       "      <td>1.000000</td>\n",
       "    </tr>\n",
       "  </tbody>\n",
       "</table>\n",
       "</div>"
      ],
      "text/plain": [
       "          RG_ID          Value    DataQuality\n",
       "count  884203.0  884203.000000  884203.000000\n",
       "mean     8150.0      -0.797148       0.994882\n",
       "std         0.0       0.381277       0.071354\n",
       "min      8150.0      -1.811214       0.000000\n",
       "25%      8150.0      -1.103166       1.000000\n",
       "50%      8150.0      -0.783741       1.000000\n",
       "75%      8150.0      -0.483211       1.000000\n",
       "max      8150.0       2.175049       1.000000"
      ]
     },
     "execution_count": 4,
     "metadata": {},
     "output_type": "execute_result"
    }
   ],
   "source": [
    "level_data.describe()"
   ]
  },
  {
   "cell_type": "code",
   "execution_count": null,
   "metadata": {},
   "outputs": [
    {
     "data": {
      "text/html": [
       "<div>\n",
       "<style scoped>\n",
       "    .dataframe tbody tr th:only-of-type {\n",
       "        vertical-align: middle;\n",
       "    }\n",
       "\n",
       "    .dataframe tbody tr th {\n",
       "        vertical-align: top;\n",
       "    }\n",
       "\n",
       "    .dataframe thead th {\n",
       "        text-align: right;\n",
       "    }\n",
       "</style>\n",
       "<table border=\"1\" class=\"dataframe\">\n",
       "  <thead>\n",
       "    <tr style=\"text-align: right;\">\n",
       "      <th></th>\n",
       "      <th>RG_ID</th>\n",
       "      <th>Value</th>\n",
       "      <th>DataQuality</th>\n",
       "    </tr>\n",
       "  </thead>\n",
       "  <tbody>\n",
       "    <tr>\n",
       "      <td>count</td>\n",
       "      <td>2885145.0</td>\n",
       "      <td>2.885145e+06</td>\n",
       "      <td>2.885145e+06</td>\n",
       "    </tr>\n",
       "    <tr>\n",
       "      <td>mean</td>\n",
       "      <td>8150.0</td>\n",
       "      <td>4.244629e+02</td>\n",
       "      <td>9.984247e-01</td>\n",
       "    </tr>\n",
       "    <tr>\n",
       "      <td>std</td>\n",
       "      <td>0.0</td>\n",
       "      <td>2.191488e+02</td>\n",
       "      <td>3.965892e-02</td>\n",
       "    </tr>\n",
       "    <tr>\n",
       "      <td>min</td>\n",
       "      <td>8150.0</td>\n",
       "      <td>0.000000e+00</td>\n",
       "      <td>0.000000e+00</td>\n",
       "    </tr>\n",
       "    <tr>\n",
       "      <td>25%</td>\n",
       "      <td>8150.0</td>\n",
       "      <td>2.689742e+02</td>\n",
       "      <td>1.000000e+00</td>\n",
       "    </tr>\n",
       "    <tr>\n",
       "      <td>50%</td>\n",
       "      <td>8150.0</td>\n",
       "      <td>5.083130e+02</td>\n",
       "      <td>1.000000e+00</td>\n",
       "    </tr>\n",
       "    <tr>\n",
       "      <td>75%</td>\n",
       "      <td>8150.0</td>\n",
       "      <td>5.471727e+02</td>\n",
       "      <td>1.000000e+00</td>\n",
       "    </tr>\n",
       "    <tr>\n",
       "      <td>max</td>\n",
       "      <td>8150.0</td>\n",
       "      <td>1.200000e+03</td>\n",
       "      <td>1.000000e+00</td>\n",
       "    </tr>\n",
       "  </tbody>\n",
       "</table>\n",
       "</div>"
      ],
      "text/plain": [
       "           RG_ID         Value   DataQuality\n",
       "count  2885145.0  2.885145e+06  2.885145e+06\n",
       "mean      8150.0  4.244629e+02  9.984247e-01\n",
       "std          0.0  2.191488e+02  3.965892e-02\n",
       "min       8150.0  0.000000e+00  0.000000e+00\n",
       "25%       8150.0  2.689742e+02  1.000000e+00\n",
       "50%       8150.0  5.083130e+02  1.000000e+00\n",
       "75%       8150.0  5.471727e+02  1.000000e+00\n",
       "max       8150.0  1.200000e+03  1.000000e+00"
      ]
     },
     "execution_count": 5,
     "metadata": {},
     "output_type": "execute_result"
    }
   ],
   "source": [
    "flow_data.describe()"
   ]
  },
  {
   "cell_type": "markdown",
   "metadata": {},
   "source": [
    "# Daily scheduele of households"
   ]
  },
  {
   "cell_type": "code",
   "execution_count": null,
   "metadata": {
    "collapsed": true
   },
   "outputs": [],
   "source": [
    "level_data[\"TimeStamp\"] = level_data.apply(lambda row: datetime.datetime.strptime(row[\"TimeStamp\"], '%d-%m-%Y %H:%M:%S'), axis = 1)\n",
    "flow_data[\"TimeStamp\"] = flow_data.apply(lambda row: datetime.datetime.strptime(row[\"TimeStamp\"], '%d-%m-%Y %H:%M:%S'), axis = 1)\n",
    "\n",
    "flow_data.set_index('TimeStamp', inplace= True, drop = False)\n",
    "level_data.set_index('TimeStamp', inplace= True, drop = False)"
   ]
  },
  {
   "cell_type": "code",
   "execution_count": null,
   "metadata": {
    "collapsed": true
   },
   "outputs": [],
   "source": [
    "level_data['Day'] = level_data['TimeStamp'].apply(lambda i: i.dayofweek)\n",
    "flow_data['Day'] = flow_data['TimeStamp'].apply(lambda i: i.dayofweek)\n",
    "\n",
    "level_data['TimeBetweenMeasurements'] = level_data['TimeStamp'].diff().apply(lambda i: i.seconds)\n",
    "flow_data['TimeBetweenMeasurements'] = flow_data['TimeStamp'].diff().apply(lambda i: i.seconds)\n",
    "\n",
    "weekday_level = level_data[~level_data['Day'].isin([5,6])]\n",
    "weekend_level = level_data[level_data['Day'].isin([5,6])]\n",
    "\n",
    "weekday_flow = flow_data[~flow_data['Day'].isin([5,6])]\n",
    "weekend_flow = flow_data[flow_data['Day'].isin([5,6])]"
   ]
  },
  {
   "cell_type": "code",
   "execution_count": null,
   "metadata": {
    "scrolled": false
   },
   "outputs": [],
   "source": [
    "fig, ax = plt.subplots(nrows = 1, ncols = 2, sharex=True, sharey= True)\n",
    "\n",
    "(1/weekday_level['TimeBetweenMeasurements'].groupby(weekday_level.index.hour).mean()).plot(figsize = (12,7), ax = ax[0])\n",
    "ax[0].set_ylabel(\"Inverse of average interval between pumps working [1/s]\", size = 12)\n",
    "ax[0].set_xlabel(\"Hour of the day\", size = 15)\n",
    "ax[0].set_title(\"Weekdays\", weight = 'bold')\n",
    "\n",
    "(1/weekend_level['TimeBetweenMeasurements'].groupby(weekend_level.index.hour).mean()).plot(figsize = (12,7), ax = ax[1])\n",
    "ax[1].set_ylabel(\"Inverse of average interval between pumps working [1/s]\", size = 12)\n",
    "ax[1].set_xlabel(\"Hour of the day\", size = 15)\n",
    "ax[1].set_title(\"Weekends\", weight = 'bold')\n",
    "\n",
    "plt.tight_layout()\n",
    "ax.get_figure().savefig(\"RythmOfHumans.jpg\")"
   ]
  },
  {
   "cell_type": "code",
   "execution_count": 59,
   "metadata": {},
   "outputs": [
    {
     "data": {
      "image/png": "[encoded data removed]",
      "text/plain": [
       "<matplotlib.figure.Figure at 0x11e944198>"
      ]
     },
     "metadata": {},
     "output_type": "display_data"
    }
   ],
   "source": [
    "fig, ax = plt.subplots(nrows = 1, ncols = 2, sharex=True, sharey= True)\n",
    "\n",
    "(1/weekday_flow['TimeBetweenMeasurements'].groupby(weekday_flow.index.hour).mean()).plot(figsize = (12,7), ax = ax[0])\n",
    "ax[0].set_ylabel(\"Inverse of average interval between pump measurments\", size = 12)\n",
    "ax[0].set_xlabel(\"Hour of the day\", size = 15)\n",
    "ax[0].set_title(\"Weekdays\", weight = 'bold')\n",
    "\n",
    "(1/weekend_flow['TimeBetweenMeasurements'].groupby(weekend_flow.index.hour).mean()).plot(figsize = (12,7), ax = ax[1])\n",
    "ax[1].set_ylabel(\"Inverse of average interval between pump measurments\", size = 12)\n",
    "ax[1].set_xlabel(\"Hour of the day\", size = 15)\n",
    "ax[1].set_title(\"Weekends\", weight = 'bold')\n",
    "\n",
    "plt.tight_layout()"
   ]
  },
  {
   "cell_type": "markdown",
   "metadata": {},
   "source": [
    "# Daily Schedule of households based on one day"
   ]
  },
  {
   "cell_type": "code",
   "execution_count": 61,
   "metadata": {},
   "outputs": [
    {
     "data": {
      "text/html": [
       "<div>\n",
       "<style scoped>\n",
       "    .dataframe tbody tr th:only-of-type {\n",
       "        vertical-align: middle;\n",
       "    }\n",
       "\n",
       "    .dataframe tbody tr th {\n",
       "        vertical-align: top;\n",
       "    }\n",
       "\n",
       "    .dataframe thead th {\n",
       "        text-align: right;\n",
       "    }\n",
       "</style>\n",
       "<table border=\"1\" class=\"dataframe\">\n",
       "  <thead>\n",
       "    <tr style=\"text-align: right;\">\n",
       "      <th></th>\n",
       "      <th>RG_ID</th>\n",
       "      <th>TimeStamp</th>\n",
       "      <th>Value</th>\n",
       "      <th>DataQuality</th>\n",
       "      <th>Day</th>\n",
       "      <th>TimeBetweenMeasurements</th>\n",
       "    </tr>\n",
       "    <tr>\n",
       "      <th>TimeStamp</th>\n",
       "      <th></th>\n",
       "      <th></th>\n",
       "      <th></th>\n",
       "      <th></th>\n",
       "      <th></th>\n",
       "      <th></th>\n",
       "    </tr>\n",
       "  </thead>\n",
       "  <tbody>\n",
       "    <tr>\n",
       "      <td>2019-07-01 00:00:35</td>\n",
       "      <td>8150</td>\n",
       "      <td>2019-07-01 00:00:35</td>\n",
       "      <td>-0.211448</td>\n",
       "      <td>1</td>\n",
       "      <td>0</td>\n",
       "      <td>60.0</td>\n",
       "    </tr>\n",
       "    <tr>\n",
       "      <td>2019-07-01 00:01:45</td>\n",
       "      <td>8150</td>\n",
       "      <td>2019-07-01 00:01:45</td>\n",
       "      <td>-0.158658</td>\n",
       "      <td>1</td>\n",
       "      <td>0</td>\n",
       "      <td>70.0</td>\n",
       "    </tr>\n",
       "    <tr>\n",
       "      <td>2019-07-01 00:03:00</td>\n",
       "      <td>8150</td>\n",
       "      <td>2019-07-01 00:03:00</td>\n",
       "      <td>-0.107544</td>\n",
       "      <td>1</td>\n",
       "      <td>0</td>\n",
       "      <td>75.0</td>\n",
       "    </tr>\n",
       "    <tr>\n",
       "      <td>2019-07-01 00:08:35</td>\n",
       "      <td>8150</td>\n",
       "      <td>2019-07-01 00:08:35</td>\n",
       "      <td>-0.056415</td>\n",
       "      <td>1</td>\n",
       "      <td>0</td>\n",
       "      <td>335.0</td>\n",
       "    </tr>\n",
       "    <tr>\n",
       "      <td>2019-07-01 00:17:20</td>\n",
       "      <td>8150</td>\n",
       "      <td>2019-07-01 00:17:20</td>\n",
       "      <td>-0.005437</td>\n",
       "      <td>1</td>\n",
       "      <td>0</td>\n",
       "      <td>525.0</td>\n",
       "    </tr>\n",
       "  </tbody>\n",
       "</table>\n",
       "</div>"
      ],
      "text/plain": [
       "                     RG_ID           TimeStamp     Value  DataQuality  Day  \\\n",
       "TimeStamp                                                                    \n",
       "2019-07-01 00:00:35   8150 2019-07-01 00:00:35 -0.211448            1    0   \n",
       "2019-07-01 00:01:45   8150 2019-07-01 00:01:45 -0.158658            1    0   \n",
       "2019-07-01 00:03:00   8150 2019-07-01 00:03:00 -0.107544            1    0   \n",
       "2019-07-01 00:08:35   8150 2019-07-01 00:08:35 -0.056415            1    0   \n",
       "2019-07-01 00:17:20   8150 2019-07-01 00:17:20 -0.005437            1    0   \n",
       "\n",
       "                     TimeBetweenMeasurements  \n",
       "TimeStamp                                     \n",
       "2019-07-01 00:00:35                     60.0  \n",
       "2019-07-01 00:01:45                     70.0  \n",
       "2019-07-01 00:03:00                     75.0  \n",
       "2019-07-01 00:08:35                    335.0  \n",
       "2019-07-01 00:17:20                    525.0  "
      ]
     },
     "execution_count": 61,
     "metadata": {},
     "output_type": "execute_result"
    }
   ],
   "source": [
    "oneday = level_data['7-1-2019']\n",
    "oneday.head()"
   ]
  },
  {
   "cell_type": "code",
   "execution_count": 62,
   "metadata": {},
   "outputs": [
    {
     "name": "stderr",
     "output_type": "stream",
     "text": [
      "/anaconda3/lib/python3.6/site-packages/ipykernel_launcher.py:1: SettingWithCopyWarning: \n",
      "A value is trying to be set on a copy of a slice from a DataFrame.\n",
      "Try using .loc[row_indexer,col_indexer] = value instead\n",
      "\n",
      "See the caveats in the documentation: http://pandas.pydata.org/pandas-docs/stable/user_guide/indexing.html#returning-a-view-versus-a-copy\n",
      "  \"\"\"Entry point for launching an IPython kernel.\n"
     ]
    }
   ],
   "source": [
    "oneday['CUMSUM_Value'] = oneday['Value'].cumsum()"
   ]
  },
  {
   "cell_type": "code",
   "execution_count": 63,
   "metadata": {},
   "outputs": [
    {
     "data": {
      "text/plain": [
       "<matplotlib.axes._subplots.AxesSubplot at 0x11f4d0c88>"
      ]
     },
     "execution_count": 63,
     "metadata": {},
     "output_type": "execute_result"
    },
    {
     "data": {
      "image/png": "[encoded data removed]",
      "text/plain": [
       "<matplotlib.figure.Figure at 0x120cc4be0>"
      ]
     },
     "metadata": {},
     "output_type": "display_data"
    }
   ],
   "source": [
    "oneday['CUMSUM_Value'].plot()"
   ]
  },
  {
   "cell_type": "code",
   "execution_count": 64,
   "metadata": {},
   "outputs": [
    {
     "name": "stderr",
     "output_type": "stream",
     "text": [
      "/anaconda3/lib/python3.6/site-packages/ipykernel_launcher.py:1: SettingWithCopyWarning: \n",
      "A value is trying to be set on a copy of a slice from a DataFrame.\n",
      "Try using .loc[row_indexer,col_indexer] = value instead\n",
      "\n",
      "See the caveats in the documentation: http://pandas.pydata.org/pandas-docs/stable/user_guide/indexing.html#returning-a-view-versus-a-copy\n",
      "  \"\"\"Entry point for launching an IPython kernel.\n"
     ]
    },
    {
     "data": {
      "text/plain": [
       "TimeStamp\n",
       "2019-07-01 00:00:35    1.599767\n",
       "2019-07-01 00:01:45    1.652556\n",
       "2019-07-01 00:03:00    1.703670\n",
       "2019-07-01 00:08:35    1.754799\n",
       "2019-07-01 00:17:20    1.805777\n",
       "Name: Value_corrected, dtype: float64"
      ]
     },
     "execution_count": 64,
     "metadata": {},
     "output_type": "execute_result"
    }
   ],
   "source": [
    "oneday['Value_corrected'] = oneday['Value'] - level_data['Value'].min()\n",
    "oneday['Value_corrected'].head()\n",
    "\n",
    "#Ik heb geprobeerd om te corrigeren voor NAP. \n",
    "#Op minimaal NAP = -1.811214 assume ik dat dit het geval is dat het level 0 is omdat er net gepompt is\n",
    "#Nu werk ik met positieve getallen vanaf punt 0. Waar Value Corrected 0 is is 'de bak' leeg"
   ]
  },
  {
   "cell_type": "code",
   "execution_count": 65,
   "metadata": {},
   "outputs": [
    {
     "name": "stderr",
     "output_type": "stream",
     "text": [
      "/anaconda3/lib/python3.6/site-packages/ipykernel_launcher.py:1: SettingWithCopyWarning: \n",
      "A value is trying to be set on a copy of a slice from a DataFrame.\n",
      "Try using .loc[row_indexer,col_indexer] = value instead\n",
      "\n",
      "See the caveats in the documentation: http://pandas.pydata.org/pandas-docs/stable/user_guide/indexing.html#returning-a-view-versus-a-copy\n",
      "  \"\"\"Entry point for launching an IPython kernel.\n"
     ]
    },
    {
     "data": {
      "text/plain": [
       "TimeStamp\n",
       "2019-07-01 00:00:35    1.599767\n",
       "2019-07-01 00:01:45    3.252323\n",
       "2019-07-01 00:03:00    4.955992\n",
       "2019-07-01 00:08:35    6.710791\n",
       "2019-07-01 00:17:20    8.516568\n",
       "Name: CUMSUM_Value_corrected, dtype: float64"
      ]
     },
     "execution_count": 65,
     "metadata": {},
     "output_type": "execute_result"
    }
   ],
   "source": [
    "oneday['CUMSUM_Value_corrected'] = oneday['Value_corrected'].cumsum()\n",
    "oneday['CUMSUM_Value_corrected'].head()"
   ]
  },
  {
   "cell_type": "code",
   "execution_count": 66,
   "metadata": {
    "scrolled": true
   },
   "outputs": [
    {
     "data": {
      "text/plain": [
       "<matplotlib.axes._subplots.AxesSubplot at 0x11f4d0198>"
      ]
     },
     "execution_count": 66,
     "metadata": {},
     "output_type": "execute_result"
    },
    {
     "data": {
      "image/png": "[encoded data removed]",
      "text/plain": [
       "<matplotlib.figure.Figure at 0x120a65898>"
      ]
     },
     "metadata": {},
     "output_type": "display_data"
    }
   ],
   "source": [
    "(oneday['CUMSUM_Value_corrected']).plot()"
   ]
  },
  {
   "cell_type": "code",
   "execution_count": 67,
   "metadata": {},
   "outputs": [
    {
     "name": "stderr",
     "output_type": "stream",
     "text": [
      "/anaconda3/lib/python3.6/site-packages/ipykernel_launcher.py:2: SettingWithCopyWarning: \n",
      "A value is trying to be set on a copy of a slice from a DataFrame.\n",
      "Try using .loc[row_indexer,col_indexer] = value instead\n",
      "\n",
      "See the caveats in the documentation: http://pandas.pydata.org/pandas-docs/stable/user_guide/indexing.html#returning-a-view-versus-a-copy\n",
      "  \n"
     ]
    },
    {
     "data": {
      "text/html": [
       "<div>\n",
       "<style scoped>\n",
       "    .dataframe tbody tr th:only-of-type {\n",
       "        vertical-align: middle;\n",
       "    }\n",
       "\n",
       "    .dataframe tbody tr th {\n",
       "        vertical-align: top;\n",
       "    }\n",
       "\n",
       "    .dataframe thead th {\n",
       "        text-align: right;\n",
       "    }\n",
       "</style>\n",
       "<table border=\"1\" class=\"dataframe\">\n",
       "  <thead>\n",
       "    <tr style=\"text-align: right;\">\n",
       "      <th></th>\n",
       "      <th>RG_ID</th>\n",
       "      <th>TimeStamp</th>\n",
       "      <th>Value</th>\n",
       "      <th>DataQuality</th>\n",
       "      <th>Day</th>\n",
       "      <th>TimeBetweenMeasurements</th>\n",
       "      <th>time</th>\n",
       "    </tr>\n",
       "    <tr>\n",
       "      <th>TimeStamp</th>\n",
       "      <th></th>\n",
       "      <th></th>\n",
       "      <th></th>\n",
       "      <th></th>\n",
       "      <th></th>\n",
       "      <th></th>\n",
       "      <th></th>\n",
       "    </tr>\n",
       "  </thead>\n",
       "  <tbody>\n",
       "    <tr>\n",
       "      <td>2019-07-01 00:00:35</td>\n",
       "      <td>8150</td>\n",
       "      <td>2019-07-01 00:00:35</td>\n",
       "      <td>-0.211448</td>\n",
       "      <td>1</td>\n",
       "      <td>0</td>\n",
       "      <td>60.0</td>\n",
       "      <td>2019-07-01 00:00:35</td>\n",
       "    </tr>\n",
       "    <tr>\n",
       "      <td>2019-07-01 00:01:45</td>\n",
       "      <td>8150</td>\n",
       "      <td>2019-07-01 00:01:45</td>\n",
       "      <td>-0.158658</td>\n",
       "      <td>1</td>\n",
       "      <td>0</td>\n",
       "      <td>70.0</td>\n",
       "      <td>2019-07-01 00:01:45</td>\n",
       "    </tr>\n",
       "    <tr>\n",
       "      <td>2019-07-01 00:03:00</td>\n",
       "      <td>8150</td>\n",
       "      <td>2019-07-01 00:03:00</td>\n",
       "      <td>-0.107544</td>\n",
       "      <td>1</td>\n",
       "      <td>0</td>\n",
       "      <td>75.0</td>\n",
       "      <td>2019-07-01 00:03:00</td>\n",
       "    </tr>\n",
       "    <tr>\n",
       "      <td>2019-07-01 00:08:35</td>\n",
       "      <td>8150</td>\n",
       "      <td>2019-07-01 00:08:35</td>\n",
       "      <td>-0.056415</td>\n",
       "      <td>1</td>\n",
       "      <td>0</td>\n",
       "      <td>335.0</td>\n",
       "      <td>2019-07-01 00:08:35</td>\n",
       "    </tr>\n",
       "    <tr>\n",
       "      <td>2019-07-01 00:17:20</td>\n",
       "      <td>8150</td>\n",
       "      <td>2019-07-01 00:17:20</td>\n",
       "      <td>-0.005437</td>\n",
       "      <td>1</td>\n",
       "      <td>0</td>\n",
       "      <td>525.0</td>\n",
       "      <td>2019-07-01 00:17:20</td>\n",
       "    </tr>\n",
       "  </tbody>\n",
       "</table>\n",
       "</div>"
      ],
      "text/plain": [
       "                     RG_ID           TimeStamp     Value  DataQuality  Day  \\\n",
       "TimeStamp                                                                    \n",
       "2019-07-01 00:00:35   8150 2019-07-01 00:00:35 -0.211448            1    0   \n",
       "2019-07-01 00:01:45   8150 2019-07-01 00:01:45 -0.158658            1    0   \n",
       "2019-07-01 00:03:00   8150 2019-07-01 00:03:00 -0.107544            1    0   \n",
       "2019-07-01 00:08:35   8150 2019-07-01 00:08:35 -0.056415            1    0   \n",
       "2019-07-01 00:17:20   8150 2019-07-01 00:17:20 -0.005437            1    0   \n",
       "\n",
       "                     TimeBetweenMeasurements                time  \n",
       "TimeStamp                                                         \n",
       "2019-07-01 00:00:35                     60.0 2019-07-01 00:00:35  \n",
       "2019-07-01 00:01:45                     70.0 2019-07-01 00:01:45  \n",
       "2019-07-01 00:03:00                     75.0 2019-07-01 00:03:00  \n",
       "2019-07-01 00:08:35                    335.0 2019-07-01 00:08:35  \n",
       "2019-07-01 00:17:20                    525.0 2019-07-01 00:17:20  "
      ]
     },
     "execution_count": 67,
     "metadata": {},
     "output_type": "execute_result"
    }
   ],
   "source": [
    "oneday = level_data['7-1-2019']\n",
    "oneday['time'] = oneday.index\n",
    "oneday.head()"
   ]
  },
  {
   "cell_type": "code",
   "execution_count": 68,
   "metadata": {},
   "outputs": [
    {
     "data": {
      "text/plain": [
       "Text(0.5,0,'Hour of the day')"
      ]
     },
     "execution_count": 68,
     "metadata": {},
     "output_type": "execute_result"
    },
    {
     "data": {
      "image/png": "[encoded data removed]",
      "text/plain": [
       "<matplotlib.figure.Figure at 0x11c87d358>"
      ]
     },
     "metadata": {},
     "output_type": "display_data"
    }
   ],
   "source": [
    "ax = (1/oneday[['time']].diff()['time'].apply(lambda i: i.seconds).groupby(oneday.index.hour).mean()).plot()\n",
    "ax.set_ylabel(\"Inverse of average interval between pumps working [1/s]\")\n",
    "ax.set_xlabel(\"Hour of the day\")"
   ]
  },
  {
   "cell_type": "markdown",
   "metadata": {},
   "source": [
    "# Rainfall"
   ]
  },
  {
   "cell_type": "code",
   "execution_count": 60,
   "metadata": {},
   "outputs": [
    {
     "data": {
      "text/html": [
       "<div>\n",
       "<style scoped>\n",
       "    .dataframe tbody tr th:only-of-type {\n",
       "        vertical-align: middle;\n",
       "    }\n",
       "\n",
       "    .dataframe tbody tr th {\n",
       "        vertical-align: top;\n",
       "    }\n",
       "\n",
       "    .dataframe thead th {\n",
       "        text-align: right;\n",
       "    }\n",
       "</style>\n",
       "<table border=\"1\" class=\"dataframe\">\n",
       "  <thead>\n",
       "    <tr style=\"text-align: right;\">\n",
       "      <th></th>\n",
       "      <th>Begin</th>\n",
       "      <th>Eind</th>\n",
       "      <th>Kwaliteit</th>\n",
       "      <th>Lekerstraat</th>\n",
       "      <th>11. Speelweide/Vlinkert</th>\n",
       "      <th>Rips</th>\n",
       "      <th>Handel</th>\n",
       "      <th>14. Koolhof</th>\n",
       "      <th>13. Heiakker</th>\n",
       "      <th>Vlierden</th>\n",
       "      <th>...</th>\n",
       "      <th>Ooivaarsrijt</th>\n",
       "      <th>de Brand</th>\n",
       "      <th>Bitswijk</th>\n",
       "      <th>de Geer-zuid</th>\n",
       "      <th>De Hoeven(Haarsteeg)</th>\n",
       "      <th>11+19 Grevekeur</th>\n",
       "      <th>CHV-terrein</th>\n",
       "      <th>Geb. 12 Vughterpoort</th>\n",
       "      <th>Heusdenseweg(Haarsteeg)</th>\n",
       "      <th>Bosscheweg</th>\n",
       "    </tr>\n",
       "  </thead>\n",
       "  <tbody>\n",
       "    <tr>\n",
       "      <td>0</td>\n",
       "      <td>2018-12-31 23:00:00</td>\n",
       "      <td>2018-12-31 23:05:00</td>\n",
       "      <td>HydroNET D2</td>\n",
       "      <td>0.0</td>\n",
       "      <td>0.0</td>\n",
       "      <td>0.0</td>\n",
       "      <td>0.0</td>\n",
       "      <td>0.0</td>\n",
       "      <td>0.0</td>\n",
       "      <td>0.0</td>\n",
       "      <td>...</td>\n",
       "      <td>0.0</td>\n",
       "      <td>0.0</td>\n",
       "      <td>0.0</td>\n",
       "      <td>0.0</td>\n",
       "      <td>0.0</td>\n",
       "      <td>0.0</td>\n",
       "      <td>0.0</td>\n",
       "      <td>0.0</td>\n",
       "      <td>0.0</td>\n",
       "      <td>0.0</td>\n",
       "    </tr>\n",
       "    <tr>\n",
       "      <td>1</td>\n",
       "      <td>2018-12-31 23:05:00</td>\n",
       "      <td>2018-12-31 23:10:00</td>\n",
       "      <td>HydroNET D2</td>\n",
       "      <td>0.0</td>\n",
       "      <td>0.0</td>\n",
       "      <td>0.0</td>\n",
       "      <td>0.0</td>\n",
       "      <td>0.0</td>\n",
       "      <td>0.0</td>\n",
       "      <td>0.0</td>\n",
       "      <td>...</td>\n",
       "      <td>0.0</td>\n",
       "      <td>0.0</td>\n",
       "      <td>0.0</td>\n",
       "      <td>0.0</td>\n",
       "      <td>0.0</td>\n",
       "      <td>0.0</td>\n",
       "      <td>0.0</td>\n",
       "      <td>0.0</td>\n",
       "      <td>0.0</td>\n",
       "      <td>0.0</td>\n",
       "    </tr>\n",
       "    <tr>\n",
       "      <td>2</td>\n",
       "      <td>2018-12-31 23:10:00</td>\n",
       "      <td>2018-12-31 23:15:00</td>\n",
       "      <td>HydroNET D2</td>\n",
       "      <td>0.0</td>\n",
       "      <td>0.0</td>\n",
       "      <td>0.0</td>\n",
       "      <td>0.0</td>\n",
       "      <td>0.0</td>\n",
       "      <td>0.0</td>\n",
       "      <td>0.0</td>\n",
       "      <td>...</td>\n",
       "      <td>0.0</td>\n",
       "      <td>0.0</td>\n",
       "      <td>0.0</td>\n",
       "      <td>0.0</td>\n",
       "      <td>0.0</td>\n",
       "      <td>0.0</td>\n",
       "      <td>0.0</td>\n",
       "      <td>0.0</td>\n",
       "      <td>0.0</td>\n",
       "      <td>0.0</td>\n",
       "    </tr>\n",
       "    <tr>\n",
       "      <td>3</td>\n",
       "      <td>2018-12-31 23:15:00</td>\n",
       "      <td>2018-12-31 23:20:00</td>\n",
       "      <td>HydroNET D2</td>\n",
       "      <td>0.0</td>\n",
       "      <td>0.0</td>\n",
       "      <td>0.0</td>\n",
       "      <td>0.0</td>\n",
       "      <td>0.0</td>\n",
       "      <td>0.0</td>\n",
       "      <td>0.0</td>\n",
       "      <td>...</td>\n",
       "      <td>0.0</td>\n",
       "      <td>0.0</td>\n",
       "      <td>0.0</td>\n",
       "      <td>0.0</td>\n",
       "      <td>0.0</td>\n",
       "      <td>0.0</td>\n",
       "      <td>0.0</td>\n",
       "      <td>0.0</td>\n",
       "      <td>0.0</td>\n",
       "      <td>0.0</td>\n",
       "    </tr>\n",
       "    <tr>\n",
       "      <td>4</td>\n",
       "      <td>2018-12-31 23:20:00</td>\n",
       "      <td>2018-12-31 23:25:00</td>\n",
       "      <td>HydroNET D2</td>\n",
       "      <td>0.0</td>\n",
       "      <td>0.0</td>\n",
       "      <td>0.0</td>\n",
       "      <td>0.0</td>\n",
       "      <td>0.0</td>\n",
       "      <td>0.0</td>\n",
       "      <td>0.0</td>\n",
       "      <td>...</td>\n",
       "      <td>0.0</td>\n",
       "      <td>0.0</td>\n",
       "      <td>0.0</td>\n",
       "      <td>0.0</td>\n",
       "      <td>0.0</td>\n",
       "      <td>0.0</td>\n",
       "      <td>0.0</td>\n",
       "      <td>0.0</td>\n",
       "      <td>0.0</td>\n",
       "      <td>0.0</td>\n",
       "    </tr>\n",
       "    <tr>\n",
       "      <td>...</td>\n",
       "      <td>...</td>\n",
       "      <td>...</td>\n",
       "      <td>...</td>\n",
       "      <td>...</td>\n",
       "      <td>...</td>\n",
       "      <td>...</td>\n",
       "      <td>...</td>\n",
       "      <td>...</td>\n",
       "      <td>...</td>\n",
       "      <td>...</td>\n",
       "      <td>...</td>\n",
       "      <td>...</td>\n",
       "      <td>...</td>\n",
       "      <td>...</td>\n",
       "      <td>...</td>\n",
       "      <td>...</td>\n",
       "      <td>...</td>\n",
       "      <td>...</td>\n",
       "      <td>...</td>\n",
       "      <td>...</td>\n",
       "      <td>...</td>\n",
       "    </tr>\n",
       "    <tr>\n",
       "      <td>8923</td>\n",
       "      <td>2019-05-31 21:35:00</td>\n",
       "      <td>2019-05-31 21:40:00</td>\n",
       "      <td>HydroNET D2</td>\n",
       "      <td>0.0</td>\n",
       "      <td>0.0</td>\n",
       "      <td>0.0</td>\n",
       "      <td>0.0</td>\n",
       "      <td>0.0</td>\n",
       "      <td>0.0</td>\n",
       "      <td>0.0</td>\n",
       "      <td>...</td>\n",
       "      <td>0.0</td>\n",
       "      <td>0.0</td>\n",
       "      <td>0.0</td>\n",
       "      <td>0.0</td>\n",
       "      <td>0.0</td>\n",
       "      <td>0.0</td>\n",
       "      <td>0.0</td>\n",
       "      <td>0.0</td>\n",
       "      <td>0.0</td>\n",
       "      <td>0.0</td>\n",
       "    </tr>\n",
       "    <tr>\n",
       "      <td>8924</td>\n",
       "      <td>2019-05-31 21:40:00</td>\n",
       "      <td>2019-05-31 21:45:00</td>\n",
       "      <td>HydroNET D2</td>\n",
       "      <td>0.0</td>\n",
       "      <td>0.0</td>\n",
       "      <td>0.0</td>\n",
       "      <td>0.0</td>\n",
       "      <td>0.0</td>\n",
       "      <td>0.0</td>\n",
       "      <td>0.0</td>\n",
       "      <td>...</td>\n",
       "      <td>0.0</td>\n",
       "      <td>0.0</td>\n",
       "      <td>0.0</td>\n",
       "      <td>0.0</td>\n",
       "      <td>0.0</td>\n",
       "      <td>0.0</td>\n",
       "      <td>0.0</td>\n",
       "      <td>0.0</td>\n",
       "      <td>0.0</td>\n",
       "      <td>0.0</td>\n",
       "    </tr>\n",
       "    <tr>\n",
       "      <td>8925</td>\n",
       "      <td>2019-05-31 21:45:00</td>\n",
       "      <td>2019-05-31 21:50:00</td>\n",
       "      <td>HydroNET D2</td>\n",
       "      <td>0.0</td>\n",
       "      <td>0.0</td>\n",
       "      <td>0.0</td>\n",
       "      <td>0.0</td>\n",
       "      <td>0.0</td>\n",
       "      <td>0.0</td>\n",
       "      <td>0.0</td>\n",
       "      <td>...</td>\n",
       "      <td>0.0</td>\n",
       "      <td>0.0</td>\n",
       "      <td>0.0</td>\n",
       "      <td>0.0</td>\n",
       "      <td>0.0</td>\n",
       "      <td>0.0</td>\n",
       "      <td>0.0</td>\n",
       "      <td>0.0</td>\n",
       "      <td>0.0</td>\n",
       "      <td>0.0</td>\n",
       "    </tr>\n",
       "    <tr>\n",
       "      <td>8926</td>\n",
       "      <td>2019-05-31 21:50:00</td>\n",
       "      <td>2019-05-31 21:55:00</td>\n",
       "      <td>HydroNET D2</td>\n",
       "      <td>0.0</td>\n",
       "      <td>0.0</td>\n",
       "      <td>0.0</td>\n",
       "      <td>0.0</td>\n",
       "      <td>0.0</td>\n",
       "      <td>0.0</td>\n",
       "      <td>0.0</td>\n",
       "      <td>...</td>\n",
       "      <td>0.0</td>\n",
       "      <td>0.0</td>\n",
       "      <td>0.0</td>\n",
       "      <td>0.0</td>\n",
       "      <td>0.0</td>\n",
       "      <td>0.0</td>\n",
       "      <td>0.0</td>\n",
       "      <td>0.0</td>\n",
       "      <td>0.0</td>\n",
       "      <td>0.0</td>\n",
       "    </tr>\n",
       "    <tr>\n",
       "      <td>8927</td>\n",
       "      <td>2019-05-31 21:55:00</td>\n",
       "      <td>2019-05-31 22:00:00</td>\n",
       "      <td>HydroNET D2</td>\n",
       "      <td>0.0</td>\n",
       "      <td>0.0</td>\n",
       "      <td>0.0</td>\n",
       "      <td>0.0</td>\n",
       "      <td>0.0</td>\n",
       "      <td>0.0</td>\n",
       "      <td>0.0</td>\n",
       "      <td>...</td>\n",
       "      <td>0.0</td>\n",
       "      <td>0.0</td>\n",
       "      <td>0.0</td>\n",
       "      <td>0.0</td>\n",
       "      <td>0.0</td>\n",
       "      <td>0.0</td>\n",
       "      <td>0.0</td>\n",
       "      <td>0.0</td>\n",
       "      <td>0.0</td>\n",
       "      <td>0.0</td>\n",
       "    </tr>\n",
       "  </tbody>\n",
       "</table>\n",
       "<p>128102 rows × 436 columns</p>\n",
       "</div>"
      ],
      "text/plain": [
       "                   Begin                Eind    Kwaliteit  Lekerstraat  \\\n",
       "0    2018-12-31 23:00:00 2018-12-31 23:05:00  HydroNET D2          0.0   \n",
       "1    2018-12-31 23:05:00 2018-12-31 23:10:00  HydroNET D2          0.0   \n",
       "2    2018-12-31 23:10:00 2018-12-31 23:15:00  HydroNET D2          0.0   \n",
       "3    2018-12-31 23:15:00 2018-12-31 23:20:00  HydroNET D2          0.0   \n",
       "4    2018-12-31 23:20:00 2018-12-31 23:25:00  HydroNET D2          0.0   \n",
       "...                  ...                 ...          ...          ...   \n",
       "8923 2019-05-31 21:35:00 2019-05-31 21:40:00  HydroNET D2          0.0   \n",
       "8924 2019-05-31 21:40:00 2019-05-31 21:45:00  HydroNET D2          0.0   \n",
       "8925 2019-05-31 21:45:00 2019-05-31 21:50:00  HydroNET D2          0.0   \n",
       "8926 2019-05-31 21:50:00 2019-05-31 21:55:00  HydroNET D2          0.0   \n",
       "8927 2019-05-31 21:55:00 2019-05-31 22:00:00  HydroNET D2          0.0   \n",
       "\n",
       "      11. Speelweide/Vlinkert  Rips  Handel  14. Koolhof  13. Heiakker  \\\n",
       "0                         0.0   0.0     0.0          0.0           0.0   \n",
       "1                         0.0   0.0     0.0          0.0           0.0   \n",
       "2                         0.0   0.0     0.0          0.0           0.0   \n",
       "3                         0.0   0.0     0.0          0.0           0.0   \n",
       "4                         0.0   0.0     0.0          0.0           0.0   \n",
       "...                       ...   ...     ...          ...           ...   \n",
       "8923                      0.0   0.0     0.0          0.0           0.0   \n",
       "8924                      0.0   0.0     0.0          0.0           0.0   \n",
       "8925                      0.0   0.0     0.0          0.0           0.0   \n",
       "8926                      0.0   0.0     0.0          0.0           0.0   \n",
       "8927                      0.0   0.0     0.0          0.0           0.0   \n",
       "\n",
       "      Vlierden  ...  Ooivaarsrijt  de Brand  Bitswijk  de Geer-zuid  \\\n",
       "0          0.0  ...           0.0       0.0       0.0           0.0   \n",
       "1          0.0  ...           0.0       0.0       0.0           0.0   \n",
       "2          0.0  ...           0.0       0.0       0.0           0.0   \n",
       "3          0.0  ...           0.0       0.0       0.0           0.0   \n",
       "4          0.0  ...           0.0       0.0       0.0           0.0   \n",
       "...        ...  ...           ...       ...       ...           ...   \n",
       "8923       0.0  ...           0.0       0.0       0.0           0.0   \n",
       "8924       0.0  ...           0.0       0.0       0.0           0.0   \n",
       "8925       0.0  ...           0.0       0.0       0.0           0.0   \n",
       "8926       0.0  ...           0.0       0.0       0.0           0.0   \n",
       "8927       0.0  ...           0.0       0.0       0.0           0.0   \n",
       "\n",
       "      De Hoeven(Haarsteeg)  11+19 Grevekeur  CHV-terrein  \\\n",
       "0                      0.0              0.0          0.0   \n",
       "1                      0.0              0.0          0.0   \n",
       "2                      0.0              0.0          0.0   \n",
       "3                      0.0              0.0          0.0   \n",
       "4                      0.0              0.0          0.0   \n",
       "...                    ...              ...          ...   \n",
       "8923                   0.0              0.0          0.0   \n",
       "8924                   0.0              0.0          0.0   \n",
       "8925                   0.0              0.0          0.0   \n",
       "8926                   0.0              0.0          0.0   \n",
       "8927                   0.0              0.0          0.0   \n",
       "\n",
       "      Geb. 12 Vughterpoort  Heusdenseweg(Haarsteeg)  Bosscheweg  \n",
       "0                      0.0                      0.0         0.0  \n",
       "1                      0.0                      0.0         0.0  \n",
       "2                      0.0                      0.0         0.0  \n",
       "3                      0.0                      0.0         0.0  \n",
       "4                      0.0                      0.0         0.0  \n",
       "...                    ...                      ...         ...  \n",
       "8923                   0.0                      0.0         0.0  \n",
       "8924                   0.0                      0.0         0.0  \n",
       "8925                   0.0                      0.0         0.0  \n",
       "8926                   0.0                      0.0         0.0  \n",
       "8927                   0.0                      0.0         0.0  \n",
       "\n",
       "[128102 rows x 436 columns]"
      ]
     },
     "execution_count": 60,
     "metadata": {},
     "output_type": "execute_result"
    }
   ],
   "source": [
    "def get_rain(path, convert_time=False):\n",
    "    files = os.listdir(path)\n",
    "    data = [pd.read_csv(path + \"/\" + i, sep = \",\", skiprows=2) for i in files]\n",
    "    data =  pd.concat(data, axis= 0, join= 'outer')\n",
    "\n",
    "    if convert_time == True:\n",
    "        data[\"Begin\"] = data.apply(lambda row: datetime.datetime.strptime(row[\"Begin\"], '%d-%m-%Y %H:%M:%S'), axis = 1)\n",
    "        data[\"Eind\"] = data.apply(lambda row: datetime.datetime.strptime(row[\"Eind\"], '%d-%m-%Y %H:%M:%S'), axis = 1)\n",
    "    \n",
    "    return data\n",
    "\n",
    "rain = get_rain(path + \"sewer_data/rain_timeseries\", True)\n",
    "rain"
   ]
  },
  {
   "cell_type": "code",
   "execution_count": 21,
   "metadata": {
    "collapsed": true
   },
   "outputs": [],
   "source": [
    "rain['Total'] = rain[rain.columns[3:]].sum(axis= 1)"
   ]
  },
  {
   "cell_type": "code",
   "execution_count": 22,
   "metadata": {
    "collapsed": true
   },
   "outputs": [],
   "source": [
    "rain.set_index('Begin', inplace= True)\n",
    "rain.sort_index(inplace=True)"
   ]
  },
  {
   "cell_type": "code",
   "execution_count": 23,
   "metadata": {},
   "outputs": [
    {
     "data": {
      "image/png": "[encoded data removed]",
      "text/plain": [
       "<Figure size 576x216 with 1 Axes>"
      ]
     },
     "metadata": {
      "needs_background": "light"
     },
     "output_type": "display_data"
    }
   ],
   "source": [
    "fig, ax = plt.subplots(figsize=(8, 3))\n",
    "rain['Total'].plot()\n",
    "ax.set_title('Rain Measurements')\n",
    "ax.set_xlabel('Date')\n",
    "ax.xaxis.set_major_locator(MaxNLocator(8))\n",
    "#ax.set_xticklabels([ax.get_xticks()])#[i] for i in range(0, 8, 2)])\n"
   ]
  },
  {
   "cell_type": "code",
   "execution_count": 149,
   "metadata": {},
   "outputs": [
    {
     "ename": "NameError",
     "evalue": "name 'rain' is not defined",
     "output_type": "error",
     "traceback": [
      "\u001b[0;31m---------------------------------------------------------------------------\u001b[0m",
      "\u001b[0;31mNameError\u001b[0m                                 Traceback (most recent call last)",
      "\u001b[0;32m<ipython-input-149-afb7989ba1c3>\u001b[0m in \u001b[0;36m<module>\u001b[0;34m()\u001b[0m\n\u001b[0;32m----> 1\u001b[0;31m \u001b[0mrain2\u001b[0m \u001b[0;34m=\u001b[0m \u001b[0mrain\u001b[0m\u001b[0;34m.\u001b[0m\u001b[0mreset_index\u001b[0m\u001b[0;34m(\u001b[0m\u001b[0;34m)\u001b[0m\u001b[0;34m.\u001b[0m\u001b[0mcopy\u001b[0m\u001b[0;34m(\u001b[0m\u001b[0;34m)\u001b[0m\u001b[0;34m\u001b[0m\u001b[0;34m\u001b[0m\u001b[0m\n\u001b[0m\u001b[1;32m      2\u001b[0m \u001b[0mfig\u001b[0m\u001b[0;34m,\u001b[0m \u001b[0max\u001b[0m \u001b[0;34m=\u001b[0m \u001b[0mplt\u001b[0m\u001b[0;34m.\u001b[0m\u001b[0msubplots\u001b[0m\u001b[0;34m(\u001b[0m\u001b[0mfigsize\u001b[0m\u001b[0;34m=\u001b[0m\u001b[0;34m(\u001b[0m\u001b[0;36m8\u001b[0m\u001b[0;34m,\u001b[0m \u001b[0;36m4\u001b[0m\u001b[0;34m)\u001b[0m\u001b[0;34m)\u001b[0m\u001b[0;34m\u001b[0m\u001b[0;34m\u001b[0m\u001b[0m\n\u001b[1;32m      3\u001b[0m \u001b[0mrain2\u001b[0m\u001b[0;34m[\u001b[0m\u001b[0mrain2\u001b[0m\u001b[0;34m[\u001b[0m\u001b[0;34m'Eind'\u001b[0m\u001b[0;34m]\u001b[0m\u001b[0;34m-\u001b[0m \u001b[0mrain2\u001b[0m\u001b[0;34m[\u001b[0m\u001b[0;34m'Begin'\u001b[0m\u001b[0;34m]\u001b[0m \u001b[0;34m==\u001b[0m \u001b[0;34m\"00:05:00\"\u001b[0m\u001b[0;34m]\u001b[0m\u001b[0;34m.\u001b[0m\u001b[0mset_index\u001b[0m\u001b[0;34m(\u001b[0m\u001b[0;34m'Begin'\u001b[0m\u001b[0;34m)\u001b[0m\u001b[0;34m[\u001b[0m\u001b[0;34m'Total'\u001b[0m\u001b[0;34m]\u001b[0m\u001b[0;34m.\u001b[0m\u001b[0mplot\u001b[0m\u001b[0;34m(\u001b[0m\u001b[0;34m)\u001b[0m\u001b[0;34m\u001b[0m\u001b[0;34m\u001b[0m\u001b[0m\n\u001b[1;32m      4\u001b[0m \u001b[0max\u001b[0m\u001b[0;34m.\u001b[0m\u001b[0mset_title\u001b[0m\u001b[0;34m(\u001b[0m\u001b[0;34m'Rain Measurements for intervals of 5 minutes'\u001b[0m\u001b[0;34m)\u001b[0m\u001b[0;34m\u001b[0m\u001b[0;34m\u001b[0m\u001b[0m\n\u001b[1;32m      5\u001b[0m \u001b[0max\u001b[0m\u001b[0;34m.\u001b[0m\u001b[0mset_xlabel\u001b[0m\u001b[0;34m(\u001b[0m\u001b[0;34m'Date'\u001b[0m\u001b[0;34m)\u001b[0m\u001b[0;34m\u001b[0m\u001b[0;34m\u001b[0m\u001b[0m\n",
      "\u001b[0;31mNameError\u001b[0m: name 'rain' is not defined"
     ]
    }
   ],
   "source": [
    "rain2 = rain.reset_index().copy()\n",
    "fig, ax = plt.subplots(figsize=(8, 4))\n",
    "rain2[rain2['Eind']- rain2['Begin'] == \"00:05:00\"].set_index('Begin')['Total'].plot()\n",
    "ax.set_title('Rain Measurements for intervals of 5 minutes')\n",
    "ax.set_xlabel('Date')\n",
    "\n"
   ]
  },
  {
   "cell_type": "code",
   "execution_count": null,
   "metadata": {
    "collapsed": true
   },
   "outputs": [],
   "source": [
    "rain2 = rain.reset_index().copy()\n",
    "fig, ax = plt.subplots(figsize=(8, 4))\n",
    "rain2[rain2['Eind']- rain2['Begin'] == \"00:60:00\"].set_index('Begin')['Total'].plot()\n",
    "ax.set_title('Rain Measurements for intervals of 60 minutes')\n",
    "ax.set_xlabel('Date')"
   ]
  },
  {
   "cell_type": "code",
   "execution_count": null,
   "metadata": {
    "collapsed": true
   },
   "outputs": [],
   "source": [
    "\n"
   ]
  },
  {
   "cell_type": "code",
   "execution_count": null,
   "metadata": {
    "collapsed": true
   },
   "outputs": [],
   "source": [
    "level2 = level_data.copy()\n",
    "level2['Value(mm)'] = level2['Value'] * 1000\n",
    "level2['Value(mm)'] = level2['Value(mm)'] + abs(level2['Value(mm)'].min())\n",
    "level2['Value(mm)'].plot()"
   ]
  },
  {
   "cell_type": "code",
   "execution_count": null,
   "metadata": {
    "collapsed": true
   },
   "outputs": [],
   "source": []
  },
  {
   "cell_type": "code",
   "execution_count": null,
   "metadata": {
    "collapsed": true
   },
   "outputs": [],
   "source": []
  },
  {
   "cell_type": "code",
   "execution_count": null,
   "metadata": {
    "collapsed": true
   },
   "outputs": [],
   "source": []
  }
 ],
 "metadata": {
  "kernelspec": {
   "display_name": "Python 3",
   "language": "python",
   "name": "python3"
  },
  "language_info": {
   "codemirror_mode": {
    "name": "ipython",
    "version": 3
   },
   "file_extension": ".py",
   "mimetype": "text/x-python",
   "name": "python",
   "nbconvert_exporter": "python",
   "pygments_lexer": "ipython3",
   "version": "3.6.9"
  }
 },
 "nbformat": 4,
 "nbformat_minor": 2
}
