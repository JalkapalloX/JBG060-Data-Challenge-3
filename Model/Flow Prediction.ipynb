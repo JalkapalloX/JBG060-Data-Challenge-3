{
 "cells": [
  {
   "cell_type": "code",
   "execution_count": 1,
   "metadata": {},
   "outputs": [
    {
     "name": "stderr",
     "output_type": "stream",
     "text": [
      "Using TensorFlow backend.\n"
     ]
    }
   ],
   "source": [
    "import load_files as lf\n",
    "import pandas as pd\n",
    "import geopandas as gpd\n",
    "import numpy as np\n",
    "import matplotlib.pyplot as plt\n",
    "import seaborn as sns\n",
    "import datetime\n",
    "import measurement_analysis as ma\n",
    "import statsmodels.api as sm\n",
    "from scipy.signal import find_peaks\n",
    "import wrangling\n",
    "import utility\n",
    "import tensorflow as tf\n",
    "import keras\n",
    "\n",
    "import warnings\n",
    "warnings.filterwarnings('ignore')"
   ]
  },
  {
   "cell_type": "code",
   "execution_count": 13,
   "metadata": {},
   "outputs": [],
   "source": [
    "flow_data_DRU, level_data_DRU = lf.get_measurements(\"D:/waterschap-aa-en-maas_sewage_2019/sewer_data/data_pump/RG8150/RG8150\")"
   ]
  },
  {
   "cell_type": "code",
   "execution_count": 14,
   "metadata": {},
   "outputs": [],
   "source": [
    "flow_data = wrangling.clean_mes_data(flow_data_DRU)\n",
    "level_data = wrangling.clean_mes_data(level_data_DRU)\n",
    "flow_data, level_data = wrangling.merge_flow_level(flow_data, level_data)\n",
    "\n",
    "flow_data[\"Value\"] = flow_data[\"Value\"].fillna(0)\n",
    "flow_data[\"DataQuality\"] = flow_data[\"DataQuality\"].fillna(0)"
   ]
  },
  {
   "cell_type": "code",
   "execution_count": 15,
   "metadata": {},
   "outputs": [],
   "source": [
    "def flow_by_hour(df):\n",
    "    flow_data = df.copy()\n",
    "    \n",
    "    # Generate necessary columns\n",
    "    flow_data[\"TimeSpan\"] = flow_data[\"TimeStamp\"].diff(1).apply(lambda i: i.seconds).fillna(5)\n",
    "    flow_data[\"TimeHour\"] = flow_data[\"TimeStamp\"].apply(lambda i: i.replace(minute=0, second=0))\n",
    "    flow_data[\"Flow\"] = flow_data[\"Value\"] / 3600 * flow_data[\"TimeSpan\"]\n",
    "    \n",
    "    flow_data = flow_data.groupby(\"TimeHour\").aggregate({\"Flow\": np.sum, \"DataQuality\": np.mean})\n",
    "    dt_range = pd.date_range(flow_data.index[0].floor('h'), flow_data.index[-1].floor('h'), freq='h')\n",
    "    flow_data = flow_data.reindex(dt_range)\n",
    "    flow_data[\"Flow\"] = flow_data[\"Flow\"].fillna(0)\n",
    "    flow_data[\"DataQuality\"] = flow_data[\"DataQuality\"].fillna(0)\n",
    "    \n",
    "    return flow_data.reset_index(drop=False).rename(columns={\"index\": \"TimeHour\"})"
   ]
  },
  {
   "cell_type": "code",
   "execution_count": 16,
   "metadata": {},
   "outputs": [],
   "source": [
    "x = flow_by_hour(flow_data)"
   ]
  },
  {
   "cell_type": "code",
   "execution_count": null,
   "metadata": {},
   "outputs": [],
   "source": [
    "class predictor:\n",
    "    def __init__(self, data):\n",
    "        NL_holidays = [i[0] for i in holidays.Netherlands(years = [2018, 2019]).items()]\n",
    "        \n",
    "        hour_dummies = pd.get_dummies(data[\"TimeHour\"].apply(lambda i: i.hour), prefix=\"hour\")\n",
    "        month_dummies = pd.get_dummies(data[\"TimeHour\"].apply(lambda i: i.month), prefix=\"month\")\n",
    "        \n",
    "        is_holiday = data[\"TimeHour\"].apply(lambda i: i.date() in NL_holidays).astype(int)\n",
    "        \n",
    "        self.y = data[\"Flow\"]\n",
    "        self.X = pd.concat([hour_dummies, month_dummies, is_holiday], axis=1)\n",
    "        self.X[\"Constant\"] = 1"
   ]
  },
  {
   "cell_type": "code",
   "execution_count": 2,
   "metadata": {},
   "outputs": [],
   "source": [
    "rain_prediction = lf.get_rain_prediction(\"D:/waterschap-aa-en-maas_sewage_2019/sewer_data/rain_grid_prediction/knmi.harmonie_2018-01-01_2019-08-29\",\n",
    "                                         reduce_grid=True)"
   ]
  },
  {
   "cell_type": "code",
   "execution_count": 17,
   "metadata": {},
   "outputs": [],
   "source": [
    "shared_indices = np.intersect1d(rain_prediction[0][\"start\"].values, x[\"TimeHour\"].values)\n",
    "rp_indices = rain_prediction[0][\"start\"].reset_index(drop=False).set_index(\"start\").reindex(shared_indices).values.flatten()"
   ]
  },
  {
   "cell_type": "code",
   "execution_count": 31,
   "metadata": {},
   "outputs": [],
   "source": [
    "y = x.set_index(\"TimeHour\").reindex(shared_indices)[\"Flow\"].values"
   ]
  },
  {
   "cell_type": "code",
   "execution_count": 29,
   "metadata": {},
   "outputs": [],
   "source": [
    "X = rain_prediction[1][rp_indices]"
   ]
  },
  {
   "cell_type": "code",
   "execution_count": 201,
   "metadata": {},
   "outputs": [],
   "source": [
    "import tensorflow as tf\n",
    "from keras.models import Sequential\n",
    "from keras.layers import Dense, Dropout, Conv2D, Flatten, GlobalMaxPooling2D, Conv1D, Input, GlobalAveragePooling1D, Lambda\n",
    "from keras.layers import Bidirectional, AveragePooling1D, GaussianNoise, Concatenate, SeparableConv2D\n",
    "from keras.layers import concatenate, MaxPooling2D, AveragePooling2D, GlobalAveragePooling3D, GlobalAveragePooling2D\n",
    "from keras.wrappers.scikit_learn import KerasRegressor\n",
    "from sklearn.model_selection import cross_val_score\n",
    "from sklearn.model_selection import KFold\n",
    "from sklearn.preprocessing import StandardScaler\n",
    "from sklearn.pipeline import Pipeline\n",
    "from keras.layers.advanced_activations import LeakyReLU\n",
    "import keras\n",
    "from keras.models import Model\n",
    "from keras import regularizers\n",
    "from sklearn.cluster import AgglomerativeClustering, DBSCAN, MeanShift, KMeans\n",
    "from keras.layers import DepthwiseConv2D\n",
    "from keras import optimizers\n",
    "from keras.layers import Layer, Reshape\n",
    "import keras.backend as K\n",
    "from keras.constraints import maxnorm, nonneg"
   ]
  },
  {
   "cell_type": "code",
   "execution_count": 102,
   "metadata": {},
   "outputs": [],
   "source": [
    "from keras.layers import Lambda\n",
    "import scipy\n",
    "sum_dim1 = Lambda(lambda xin: K.mean(xin, axis=0), output_shape=(None,1))"
   ]
  },
  {
   "cell_type": "code",
   "execution_count": 217,
   "metadata": {},
   "outputs": [],
   "source": [
    "class ConstMultiplierLayer(Layer):\n",
    "    def __init__(self, **kwargs):\n",
    "        super(ConstMultiplierLayer, self).__init__(**kwargs)\n",
    "\n",
    "    def build(self, input_shape, regularizer=None):\n",
    "        self.k = self.add_weight(\n",
    "            name='k',\n",
    "            shape=(input_shape[1],),\n",
    "            regularizer=regularizer,\n",
    "            initializer='zeros',\n",
    "            dtype='float32',\n",
    "            trainable=True,\n",
    "            constraint=nonneg()\n",
    "        )\n",
    "        super(ConstMultiplierLayer, self).build(input_shape)\n",
    "\n",
    "    def call(self, x):\n",
    "        return K.tf.multiply(self.k, x)\n",
    "\n",
    "    def compute_output_shape(self, input_shape):\n",
    "        return input_shape\n",
    "\n",
    "    \n",
    "class AvgLayer(Layer):\n",
    "    def __init__(self, **kwargs):\n",
    "        super(AvgLayer, self).__init__(**kwargs)\n",
    "\n",
    "    def build(self, input_shape):\n",
    "        super(AvgLayer, self).build(input_shape)\n",
    "\n",
    "    def call(self, x):\n",
    "        return K.mean(x)\n",
    "\n",
    "    def compute_output_shape(self, input_shape):\n",
    "        return (None,1)\n",
    "    \n",
    "\n",
    "class SumLayer(Layer):\n",
    "    def __init__(self, **kwargs):\n",
    "        super(SumLayer, self).__init__(**kwargs)\n",
    "\n",
    "    def build(self, input_shape):\n",
    "        super(SumLayer, self).build(input_shape)\n",
    "\n",
    "    def call(self, x):\n",
    "        return K.sum(x)\n",
    "\n",
    "    def compute_output_shape(self, input_shape):\n",
    "        return (None,1)\n",
    "\n",
    "\n",
    "def matlab_style_gauss2D(shape=(3,3),sigma=0.5):\n",
    "    \"\"\"\n",
    "    2D gaussian mask - should give the same result as MATLAB's\n",
    "    fspecial('gaussian',[shape],[sigma])\n",
    "    \"\"\"\n",
    "    m,n = [(ss-1.)/2. for ss in shape]\n",
    "    y,x = np.ogrid[-m:m+1,-n:n+1]\n",
    "    h = np.exp( -(x*x + y*y) / (2.*sigma*sigma) )\n",
    "    h[ h < np.finfo(h.dtype).eps*h.max() ] = 0\n",
    "    sumh = h.sum()\n",
    "    if sumh != 0:\n",
    "        h /= sumh\n",
    "    return h"
   ]
  },
  {
   "cell_type": "code",
   "execution_count": 221,
   "metadata": {},
   "outputs": [
    {
     "name": "stdout",
     "output_type": "stream",
     "text": [
      "(None, 105, 123)\n",
      "(None, 12915)\n",
      "(None, 12915)\n",
      "(None, 105, 123, 1)\n",
      "(None, 105, 123, 1)\n",
      "(None, 12915)\n",
      "(None, 1)\n"
     ]
    }
   ],
   "source": [
    "input_1 = Input(shape = (X.shape[1], X.shape[2]))\n",
    "\n",
    "#out = Conv1D(32, kernel_size=5, strides=2)(input_1)\n",
    "\n",
    "# Multiply all values by smth\n",
    "out = Flatten()(input_1)\n",
    "out = ConstMultiplierLayer()(out)\n",
    "out = Reshape(target_shape=(X.shape[1], X.shape[2], 1))(out)\n",
    "\n",
    "# Gaussian Smoothing\n",
    "kernel_size = 5\n",
    "in_channels = 1  # the number of input channels\n",
    "kernel_weights = matlab_style_gauss2D(shape=(kernel_size, kernel_size), sigma = 0.5)\n",
    "kernel_weights = np.expand_dims(kernel_weights, axis=-1)\n",
    "kernel_weights = np.repeat(kernel_weights, in_channels, axis=-1) # apply the same filter on all the input channels\n",
    "kernel_weights = np.expand_dims(kernel_weights, axis=-1)\n",
    "\n",
    "#print(kernel_weights)\n",
    "\n",
    "out = Conv2D(filters = 1, kernel_size=(kernel_size, kernel_size), use_bias=False, padding=\"same\")(out)\n",
    "\n",
    "out = Flatten()(out)\n",
    "\n",
    "# TAKE AVG OF ALL VALUES \n",
    "out = SumLayer()(out)\n",
    "\n",
    "\n",
    "model.layers[4].set_weights([kernel_weights])\n",
    "model.layers[4].trainable = False\n",
    "\n",
    "model = Model(input_1, out)\n",
    "model.compile(optimizer = optimizers.Adam(lr=0.001), loss='mean_squared_error')\n",
    "\n",
    "for i in model.layers:\n",
    "    print(i.output_shape)"
   ]
  },
  {
   "cell_type": "code",
   "execution_count": 222,
   "metadata": {},
   "outputs": [
    {
     "name": "stdout",
     "output_type": "stream",
     "text": [
      "Train on 13089 samples, validate on 1455 samples\n",
      "Epoch 1/5\n",
      "13089/13089 [==============================] - 67s 5ms/step - loss: 1307280464.7273 - val_loss: 37127.5742\n",
      "Epoch 2/5\n",
      "13089/13089 [==============================] - 63s 5ms/step - loss: 48663712.7686 - val_loss: 41860.7620\n",
      "Epoch 3/5\n",
      "13089/13089 [==============================] - 61s 5ms/step - loss: 13367637.8162 - val_loss: 40157.3815\n",
      "Epoch 4/5\n",
      "13089/13089 [==============================] - 58s 4ms/step - loss: 37173829.0081 - val_loss: 38055.0913\n",
      "Epoch 5/5\n",
      "13089/13089 [==============================] - 58s 4ms/step - loss: 27758002.5219 - val_loss: 40117.3126\n"
     ]
    },
    {
     "data": {
      "text/plain": [
       "<keras.callbacks.History at 0x1e700e69cf8>"
      ]
     },
     "execution_count": 222,
     "metadata": {},
     "output_type": "execute_result"
    }
   ],
   "source": [
    "model.fit(X, y, validation_split=0.1, epochs=5, batch_size=1024, shuffle=True)"
   ]
  },
  {
   "cell_type": "code",
   "execution_count": 223,
   "metadata": {},
   "outputs": [],
   "source": [
    "weights = model.layers[2].get_weights()[0].flatten().reshape(X.shape[1], X.shape[2])"
   ]
  },
  {
   "cell_type": "code",
   "execution_count": 224,
   "metadata": {},
   "outputs": [
    {
     "data": {
      "text/plain": [
       "(-0.5, 122.5, 104.5, -0.5)"
      ]
     },
     "execution_count": 224,
     "metadata": {},
     "output_type": "execute_result"
    },
    {
     "data": {
      "image/png": "[encoded data removed]",
      "text/plain": [
       "<Figure size 708.48x1096.2 with 1 Axes>"
      ]
     },
     "metadata": {
      "needs_background": "light"
     },
     "output_type": "display_data"
    }
   ],
   "source": [
    "fig, ax = plt.subplots(figsize = (6.56 * 1.5, 10.15 * 1.5))\n",
    "\n",
    "ax.imshow(scipy.ndimage.filters.gaussian_filter(weights, sigma=10), interpolation=\"bicubic\")   # Interpolation anti-aliases the image\n",
    "\n",
    "\n",
    "plt.axis('off')"
   ]
  },
  {
   "cell_type": "code",
   "execution_count": 214,
   "metadata": {},
   "outputs": [
    {
     "data": {
      "text/plain": [
       "-0.0"
      ]
     },
     "execution_count": 214,
     "metadata": {},
     "output_type": "execute_result"
    }
   ],
   "source": [
    "min(weights.flatten())"
   ]
  },
  {
   "cell_type": "code",
   "execution_count": null,
   "metadata": {},
   "outputs": [],
   "source": [
    "class ConstMultiplierLayer(Layer):\n",
    "    def __init__(self, **kwargs):\n",
    "        super(ConstMultiplierLayer, self).__init__(**kwargs)\n",
    "\n",
    "    def build(self, input_shape):\n",
    "        self.k = self.add_weight(\n",
    "            name='k',\n",
    "            shape=(input_shape[1],),\n",
    "            regularizer=regularizers.l2(0.01),\n",
    "            initializer='zeros',\n",
    "            dtype='float32',\n",
    "            trainable=True,\n",
    "        )\n",
    "        super(ConstMultiplierLayer, self).build(input_shape)\n",
    "\n",
    "    def call(self, x):\n",
    "        return K.tf.multiply(K.tf.add(self.k, 1), x)\n",
    "\n",
    "    def compute_output_shape(self, input_shape):\n",
    "        return input_shape\n",
    "\n",
    "def matlab_style_gauss2D(shape=(3,3),sigma=0.5):\n",
    "    \"\"\"\n",
    "    2D gaussian mask - should give the same result as MATLAB's\n",
    "    fspecial('gaussian',[shape],[sigma])\n",
    "    \"\"\"\n",
    "    m,n = [(ss-1.)/2. for ss in shape]\n",
    "    y,x = np.ogrid[-m:m+1,-n:n+1]\n",
    "    h = np.exp( -(x*x + y*y) / (2.*sigma*sigma) )\n",
    "    h[ h < np.finfo(h.dtype).eps*h.max() ] = 0\n",
    "    sumh = h.sum()\n",
    "    if sumh != 0:\n",
    "        h /= sumh\n",
    "    return h\n",
    "\n",
    "\n",
    "\n",
    "input_layer_1 = Input(shape = (x_data.shape[1], x_data.shape[2], x_data.shape[3]))\n",
    "\n",
    "out = Flatten()(input_layer_1)\n",
    "out = ConstMultiplierLayer()(out)\n",
    "out = Reshape(target_shape=(101,101,3))(out)\n",
    "\n",
    "kernel_weights = matlab_style_gauss2D(shape=(9, 9), sigma=5)\n",
    "\n",
    "in_channels = 3  # the number of input channels\n",
    "kernel_weights = np.expand_dims(kernel_weights, axis=-1)\n",
    "kernel_weights = np.repeat(kernel_weights, in_channels, axis=-1) # apply the same filter on all the input channels\n",
    "kernel_weights = np.expand_dims(kernel_weights, axis=-1)\n",
    "\n",
    "out = DepthwiseConv2D(kernel_size, use_bias=False, padding=\"same\")(out)\n",
    "\n",
    "out = Flatten()(out)\n",
    "\n",
    "out = Dense(1, activation=\"linear\", kernel_regularizer=regularizers.l2(10))(out)\n",
    "\n",
    "model = Model([input_layer_1, weight_input], out)\n",
    "\n",
    "model.layers[4].set_weights([kernel_weights])\n",
    "model.layers[4].trainable = False\n"
   ]
  }
 ],
 "metadata": {
  "kernelspec": {
   "display_name": "Python 3",
   "language": "python",
   "name": "python3"
  },
  "language_info": {
   "codemirror_mode": {
    "name": "ipython",
    "version": 3
   },
   "file_extension": ".py",
   "mimetype": "text/x-python",
   "name": "python",
   "nbconvert_exporter": "python",
   "pygments_lexer": "ipython3",
   "version": "3.7.3"
  }
 },
 "nbformat": 4,
 "nbformat_minor": 2
}
